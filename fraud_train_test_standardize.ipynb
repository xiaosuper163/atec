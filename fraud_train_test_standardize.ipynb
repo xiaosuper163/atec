{
 "cells": [
  {
   "cell_type": "code",
   "execution_count": 9,
   "metadata": {},
   "outputs": [],
   "source": [
    "## fill nas with median\n",
    "## very rude transformation of dates\n",
    "## test/train split\n",
    "import pandas as pd\n",
    "import numpy as np\n",
    "from pandas.api.types import is_numeric_dtype\n",
    "import xgboost as xgb\n",
    "import matplotlib\n",
    "import matplotlib.pyplot as plt\n",
    "from sklearn.decomposition import PCA\n",
    "# import missingno as msno\n",
    "import pickle\n",
    "from sklearn import preprocessing\n",
    "from sklearn.metrics import roc_curve\n",
    "from scipy import stats\n",
    "from scipy.stats import zscore\n",
    "from sklearn.ensemble import RandomForestClassifier\n",
    "from sklearn.model_selection import StratifiedKFold as SKF\n",
    "from sklearn import metrics\n",
    "# from fancyimpute import *\n",
    "\n",
    "%matplotlib inline"
   ]
  },
  {
   "cell_type": "code",
   "execution_count": 55,
   "metadata": {},
   "outputs": [],
   "source": [
    "def save_obj(obj, name ):\n",
    "    with open('obj/'+ name + '.pkl', 'wb') as f:\n",
    "        pickle.dump(obj, f, pickle.HIGHEST_PROTOCOL)\n",
    "\n",
    "def load_obj(name ):\n",
    "    with open('obj/' + name + '.pkl', 'rb') as f:\n",
    "        return pickle.load(f)\n",
    "    \n",
    "def display_all(df):\n",
    "    with pd.option_context(\"display.max_rows\", 1000):\n",
    "        with pd.option_context(\"display.max_columns\", 1000):\n",
    "            display(df)\n",
    "\n",
    "def batch_save(train_x, train_y, valid_x, valid_y, test, postfix):\n",
    "    train_x.reset_index().to_feather(\"tmp/train_x_{}\".format(postfix))\n",
    "    train_y.reset_index().to_feather(\"tmp/train_y_{}\".format(postfix))\n",
    "    valid_x.reset_index().to_feather(\"tmp/valid_x_{}\".format(postfix))\n",
    "    valid_y.reset_index().to_feather(\"tmp/valid_y_{}\".format(postfix))\n",
    "    test.reset_index().to_feather(\"tmp/test_{}\".format(postfix))\n",
    "    \n",
    "def batch_load(postfix):\n",
    "    train_x = pd.read_feather(\"tmp/train_x_{}\".format(postfix))\n",
    "    train_y = pd.read_feather(\"tmp/train_y_{}\".format(postfix))\n",
    "    valid_x = pd.read_feather(\"tmp/valid_x_{}\".format(postfix))\n",
    "    valid_y = pd.read_feather(\"tmp/valid_y_{}\".format(postfix))\n",
    "    return train_x, train_y, valid_x, valid_y\n",
    "\n",
    "def my_roc(y_true, y_prob):\n",
    "    if isinstance(y_true,pd.core.series.Series):\n",
    "        y_true = np.array(y_true.tolist())\n",
    "    if isinstance(y_true,list):\n",
    "        y_true = np.array(y_true)\n",
    "    sort_index = np.argsort(y_prob)[::-1]\n",
    "    y_prob = y_prob[sort_index]\n",
    "    y_true = y_true[sort_index]\n",
    "    num_p = y_true.sum()\n",
    "    num_n = len(y_true) - num_p\n",
    "    fp = 0\n",
    "    tp = 0\n",
    "    fps = []\n",
    "    tps = []\n",
    "    prob_prev = -99\n",
    "    i = 0\n",
    "    while i < len(y_true):\n",
    "        if y_prob[i]!=prob_prev:\n",
    "            fps.append(fp/num_n)\n",
    "            tps.append(tp/num_p)\n",
    "            prob_prev=y_prob[i]\n",
    "        if y_true[i]==1:\n",
    "            tp+=1\n",
    "        else:\n",
    "            fp+=1\n",
    "        i+=1\n",
    "    fps.append(fp/num_n)\n",
    "    tps.append(tp/num_p)\n",
    "    return np.array(fps), np.array(tps)\n",
    "\n",
    "def my_score3(predictions, xtrain): ##Adapted from SKlearn, conservative (actual should be higher)\n",
    "    ground_truth = xtrain.get_label()\n",
    "    fpr,tpr = my_roc(ground_truth, predictions)\n",
    "#     plt.scatter(fpr, tpr)\n",
    "#     plt.show()\n",
    "    tpr1 = tpr[(fpr>=0.001).argmax()-1]\n",
    "    tpr2 = tpr[(fpr>=0.005).argmax()-1] \n",
    "    tpr3 = tpr[(fpr>=0.01).argmax()-1]\n",
    "    return 'score', 0.4 * tpr1 + 0.3 * tpr2 + 0.3* tpr3\n",
    "\n",
    "def get_ratio(predictions, xtrain):\n",
    "    ratio_predict = (predictions>0.5).sum()/predictions.shape[0]*100\n",
    "    # ratio_true = xtrain.get_label().sum()/xtrain.get_label().shape[0]*100\n",
    "    return 'score', ratio_predict\n",
    "\n",
    "def norm_standardize(df, start=0):\n",
    "    for col in df.columns[start:]:\n",
    "#         avg = df[col].mean()\n",
    "#         std = df[col].std(ddof=0)\n",
    "#         if std != 0:\n",
    "#             df[col] = (df[col]-avg)/std\n",
    "#         else:\n",
    "#             print(col)\n",
    "        a = df[col]\n",
    "        z = a\n",
    "        z[~np.isnan(a)] = zscore(a[~np.isnan(a)])\n",
    "        df[col] = z\n",
    "            \n",
    "def norm_maxmin(df, start=0):\n",
    "    for col in df.columns[start:]:\n",
    "        df[col]=(df[col]-df[col].min())/(df[col].max()-df[col].min())"
   ]
  },
  {
   "cell_type": "code",
   "execution_count": 3,
   "metadata": {},
   "outputs": [],
   "source": [
    "dtype = load_obj('dict_dtype')\n",
    "\n",
    "my_dict = load_obj('my_dict')"
   ]
  },
  {
   "cell_type": "markdown",
   "metadata": {},
   "source": [
    "**** Load the training data and test data ****"
   ]
  },
  {
   "cell_type": "code",
   "execution_count": 4,
   "metadata": {},
   "outputs": [],
   "source": [
    "data = pd.read_csv(\"atec_anti_fraud_train.csv\",parse_dates=['date'], dtype = dtype)\n",
    "test = pd.read_csv(\"atec_anti_fraud_test_a.csv\",parse_dates=['date'], dtype = dtype)"
   ]
  },
  {
   "cell_type": "code",
   "execution_count": null,
   "metadata": {},
   "outputs": [],
   "source": [
    "df_missing_ratio = load_obj('df_missing_ratio')\n",
    "# display_all(df_missing_ratio)\n",
    "\n",
    "selected_cols = ['f'+str(item) for item in df_missing_ratio[df_missing_ratio['positive_missing_ratio']<0.1].index.tolist()]\n",
    "all_nan_cols = ['f'+str(item) for item in df_missing_ratio[df_missing_ratio['positive_missing_ratio']>0.9].index.tolist()]\n",
    "\n",
    "# # use the columns with no or few missing values\n",
    "# data = data.drop(all_nan_cols, axis=1)\n",
    "# test = test.drop(all_nan_cols, axis=1)"
   ]
  },
  {
   "cell_type": "markdown",
   "metadata": {},
   "source": [
    "**** Perform one hot encoding for the columns with no more than 10 unique values ****"
   ]
  },
  {
   "cell_type": "code",
   "execution_count": null,
   "metadata": {},
   "outputs": [],
   "source": [
    "# one hot encoding for the columns with no more than 10 unique values\n",
    "for col in data.columns[3:]:\n",
    "    data_unique = data[col].unique()\n",
    "    test_unique = test[col].unique()\n",
    "    if data_unique[~np.isnan(data_unique)].min() == test_unique[~np.isnan(test_unique)].min() and \\\n",
    "    data_unique[~np.isnan(data_unique)].max() == test_unique[~np.isnan(test_unique)].max() and \\\n",
    "    data_unique.shape[0] == test_unique.shape[0] and \\\n",
    "    data_unique.shape[0] <= 10:\n",
    "        data[col].fillna(-1.0)\n",
    "        test[col].fillna(-1.0)\n",
    "        for num in data[col].unique():\n",
    "            new_col = '{}={}'.format(col, num)\n",
    "            data[new_col] = data[col].apply(lambda x: np.isnan(x) if np.isnan(num) else x==num)\n",
    "            test[new_col] = test[col].apply(lambda x: np.isnan(x) if np.isnan(num) else x==num)\n",
    "            data.drop([col], axis=1)\n",
    "            test.drop([col], axis=1)"
   ]
  },
  {
   "cell_type": "markdown",
   "metadata": {},
   "source": [
    "**** save the file locally to save the time of preprocessing ****"
   ]
  },
  {
   "cell_type": "code",
   "execution_count": null,
   "metadata": {},
   "outputs": [],
   "source": [
    "save_obj(data, 'train_onehot')\n",
    "save_obj(test, 'test_onehot')"
   ]
  },
  {
   "cell_type": "markdown",
   "metadata": {},
   "source": [
    "**** load the onehot encoding preprocessed dataset ****"
   ]
  },
  {
   "cell_type": "code",
   "execution_count": null,
   "metadata": {},
   "outputs": [],
   "source": [
    "# load the training set and test set\n",
    "data = load_obj('train_onehot')\n",
    "test = load_obj('test_onehot')"
   ]
  },
  {
   "cell_type": "markdown",
   "metadata": {},
   "source": [
    "**** Perform normalization ****"
   ]
  },
  {
   "cell_type": "code",
   "execution_count": null,
   "metadata": {},
   "outputs": [],
   "source": [
    "# normalization with maxmin\n",
    "norm_maxmin(data, 3)\n",
    "norm_maxmin(test, 2)"
   ]
  },
  {
   "cell_type": "code",
   "execution_count": null,
   "metadata": {},
   "outputs": [],
   "source": [
    "# normalization with zscore\n",
    "norm_standardize(data, 3)\n",
    "norm_standardize(test, 2)"
   ]
  },
  {
   "cell_type": "markdown",
   "metadata": {},
   "source": [
    "**** Sort the training data and remove the unlabeled data ****"
   ]
  },
  {
   "cell_type": "code",
   "execution_count": 5,
   "metadata": {},
   "outputs": [],
   "source": [
    "# temporially ignore the rows without labels\n",
    "data.sort_values('date',inplace=True)\n",
    "# unlabeled = data[data['label']==-1]"
   ]
  },
  {
   "cell_type": "code",
   "execution_count": null,
   "metadata": {},
   "outputs": [],
   "source": [
    "# with the prediction on the unlabeled training data, set the labels for unlabeled data\n",
    "data.loc[data['label']==-1,'label'] = pd.Series((pred_xgunlabeled>0.5).astype(int), name='label', index=data.loc[data['label']==-1,'label'].index)"
   ]
  },
  {
   "cell_type": "code",
   "execution_count": 6,
   "metadata": {},
   "outputs": [],
   "source": [
    "data = data[data['label']!=-1]"
   ]
  },
  {
   "cell_type": "markdown",
   "metadata": {},
   "source": [
    "**** calculate the weight of each row with trained RF model ****"
   ]
  },
  {
   "cell_type": "code",
   "execution_count": 47,
   "metadata": {},
   "outputs": [],
   "source": [
    "rf_model = load_obj('train_test_shift')\n",
    "weights = rf_model.predict_proba(data.fillna(-1).iloc[:,3:].values)[:,1:]"
   ]
  },
  {
   "cell_type": "code",
   "execution_count": 48,
   "metadata": {},
   "outputs": [],
   "source": [
    "weights = 1./weights - 1"
   ]
  },
  {
   "cell_type": "markdown",
   "metadata": {},
   "source": [
    "**** incrementally train model ****"
   ]
  },
  {
   "cell_type": "code",
   "execution_count": null,
   "metadata": {},
   "outputs": [],
   "source": [
    "num_fraction = 10\n",
    "fraction_size = data.shape[0]//10\n",
    "\n",
    "x_batches = []\n",
    "y_batches = []\n",
    "unlabeled = []\n",
    "for i in range(num_fraction):\n",
    "    if i!=num_fraction-1:\n",
    "        data_portion = data.iloc[i*fraction_size:(i+1)*fraction_size,:]\n",
    "    else:\n",
    "        data_portion = data.iloc[i*fraction_size:,:]\n",
    "    unlabeled.append(data_portion[data_portion['label']==-1].iloc[:,3:])\n",
    "    x_batches.append(data_portion[data_portion['label']!=-1].iloc[:,3:])\n",
    "    y_batches.append(data_portion[data_portion['label']!=-1]['label'])"
   ]
  },
  {
   "cell_type": "code",
   "execution_count": null,
   "metadata": {},
   "outputs": [],
   "source": [
    "# initial model\n",
    "# set up the parameters\n",
    "params = {'max_depth': 8, 'eta': 0.1, 'silent': 1, 'objective': 'binary:logistic'}\n",
    "params['nthread'] = 4\n",
    "params['eval_metric'] = ['error', 'auc']\n",
    "params[\"scale_pos_weight\"] = 5\n",
    "num_rounds = 50\n",
    "early_stopping_rounds = 20\n",
    "\n",
    "# set up the random seed for testing\n",
    "params[\"seed\"] = 10\n",
    "\n",
    "xgtrain = xgb.DMatrix(x_batches[0].values, label=y_batches[0].values)\n",
    "xgb_model = xgb.train(params, xgtrain,\\\n",
    "                      num_rounds,\\\n",
    "                      [(xgtrain, 'current'),\\\n",
    "                       (xgb.DMatrix(x_batches[1].values, label=y_batches[1].values), 'next')],\\\n",
    "                      # feval=get_ratio,\\\n",
    "                      early_stopping_rounds=early_stopping_rounds)"
   ]
  },
  {
   "cell_type": "code",
   "execution_count": null,
   "metadata": {},
   "outputs": [],
   "source": [
    "# predict the unlabeled data of the first fraction\n",
    "pred_unlabeled = xgb_model.predict(xgb.DMatrix(unlabeled[0].values))\n",
    "unlabeled[0]['label'] = pd.Series((pred_unlabeled>0.5).astype(int), name='label',\\\n",
    "                                      index = unlabeled[0].index)"
   ]
  },
  {
   "cell_type": "code",
   "execution_count": null,
   "metadata": {},
   "outputs": [],
   "source": [
    "# incrementally train the model\n",
    "for fraction_id in range(1,num_fraction):\n",
    "    print('=========================================================================')\n",
    "    print('=====       '+str(num_fraction)+' fractions in total, training on the fraction {}'.format(fraction_id+1)+'       =====')\n",
    "    print('=========================================================================')\n",
    "#     xgtrain = xgb.DMatrix(x_batches[fraction_id].append(unlabeled[fraction_id-1].iloc[:,:-1]).values,\\\n",
    "#                           label=y_batches[fraction_id].append(unlabeled[fraction_id-1]['label']).values)\n",
    "    xgtrain = xgb.DMatrix(x_batches[fraction_id].values,\\\n",
    "                          label=y_batches[fraction_id].values)\n",
    "    if fraction_id != num_fraction-1:\n",
    "        xgb_model = xgb.train(params, xgtrain,\\\n",
    "            num_rounds,\\\n",
    "            [(xgtrain, 'current'),\\\n",
    "            (xgb.DMatrix(x_batches[fraction_id+1].values, label=y_batches[fraction_id+1].values), 'next')],\\\n",
    "            # feval=my_score3,\\\n",
    "            early_stopping_rounds=early_stopping_rounds,\\\n",
    "            xgb_model = xgb_model)\n",
    "#         pred_unlabeled = xgb_model.predict(xgb.DMatrix(unlabeled[fraction_id].values))\n",
    "#         unlabeled[fraction_id]['label'] = pd.Series((pred_unlabeled>0.5).astype(int), name='label',\\\n",
    "#                                                     index = unlabeled[fraction_id].index)\n",
    "    else:\n",
    "        num_rounds = 50\n",
    "        xgb_model = xgb.train(params, xgtrain,\\\n",
    "            num_rounds,\\\n",
    "            [(xgtrain, 'current')],\\\n",
    "            # feval=my_score3,\\\n",
    "            early_stopping_rounds=early_stopping_rounds,\\\n",
    "            xgb_model = xgb_model,)"
   ]
  },
  {
   "cell_type": "code",
   "execution_count": null,
   "metadata": {},
   "outputs": [],
   "source": []
  },
  {
   "cell_type": "markdown",
   "metadata": {},
   "source": [
    "**** Create validation set and training set ****"
   ]
  },
  {
   "cell_type": "code",
   "execution_count": 14,
   "metadata": {},
   "outputs": [],
   "source": [
    "train = data.iloc[:len(data) * 9 // 10]\n",
    "valid = data.iloc[len(data) * 9 // 10:]"
   ]
  },
  {
   "cell_type": "code",
   "execution_count": 49,
   "metadata": {},
   "outputs": [],
   "source": [
    "train_weights = weights[:len(data) * 9 // 10]\n",
    "train_weights /= np.mean(train_weights) # Normalizing the weights"
   ]
  },
  {
   "cell_type": "code",
   "execution_count": 51,
   "metadata": {},
   "outputs": [],
   "source": [
    "train_y = train[['label']]\n",
    "train_x = train.iloc[:,3:]\n",
    "valid_y = valid[['label']]\n",
    "valid_x = valid.iloc[:,3:]"
   ]
  },
  {
   "cell_type": "code",
   "execution_count": 57,
   "metadata": {},
   "outputs": [],
   "source": [
    "xgtrain = xgb.DMatrix(train_x.values, weight=train_weights, label=train_y.values)\n",
    "xgval_1 = xgb.DMatrix(valid_x.iloc[:valid_x.shape[0] // 2,:].values,\\\n",
    "                      label=valid_y.iloc[:valid_x.shape[0] // 2,:].values)\n",
    "xgval_2 = xgb.DMatrix(valid_x.iloc[valid_x.shape[0] // 2:,:].values,\\\n",
    "                      label=valid_y.iloc[valid_x.shape[0] // 2:,:].values)\n",
    "xgval = xgb.DMatrix(valid_x.values,\\\n",
    "                      label=valid_y.iloc[:,:].values)\n",
    "evallist = [(xgtrain, 'train'), (xgval_1, 'val_1'), (xgval_2, 'val_2'), (xgval, 'val')]"
   ]
  },
  {
   "cell_type": "markdown",
   "metadata": {},
   "source": [
    "**** Train the model ****"
   ]
  },
  {
   "cell_type": "code",
   "execution_count": 95,
   "metadata": {},
   "outputs": [],
   "source": [
    "# set up the parameters\n",
    "params = {'max_depth': 6, 'eta': 0.07, 'silent': 1, 'objective': 'binary:logistic'}\n",
    "params['nthread'] = 4\n",
    "params['eval_metric'] = ['error', 'auc']\n",
    "params[\"scale_pos_weight\"] = 3\n",
    "num_rounds = 50\n",
    "early_stopping_rounds = 1000\n",
    "\n",
    "# set up the random seed for testing\n",
    "params[\"seed\"] = 8"
   ]
  },
  {
   "cell_type": "code",
   "execution_count": 96,
   "metadata": {},
   "outputs": [
    {
     "name": "stdout",
     "output_type": "stream",
     "text": [
      "[0]\ttrain-error:0.007088\ttrain-auc:0.995251\tval_1-error:0.011333\tval_1-auc:0.98443\tval_2-error:0.010081\tval_2-auc:0.987691\tval-error:0.010707\tval-auc:0.986152\ttrain-score:0.701977\tval_1-score:0.478383\tval_2-score:0.58826\tval-score:0.540444\n",
      "Multiple eval metrics have been passed: 'val-score' will be used for early stopping.\n",
      "\n",
      "Will train until val-score hasn't improved in 1000 rounds.\n",
      "[1]\ttrain-error:0.00708\ttrain-auc:0.995276\tval_1-error:0.011313\tval_1-auc:0.984428\tval_2-error:0.01004\tval_2-auc:0.987675\tval-error:0.010677\tval-auc:0.986142\ttrain-score:0.702469\tval_1-score:0.47916\tval_2-score:0.585431\tval-score:0.537407\n",
      "[2]\ttrain-error:0.007036\ttrain-auc:0.995303\tval_1-error:0.011293\tval_1-auc:0.984439\tval_2-error:0.01004\tval_2-auc:0.987652\tval-error:0.010667\tval-auc:0.986133\ttrain-score:0.702971\tval_1-score:0.478694\tval_2-score:0.585431\tval-score:0.537185\n",
      "[3]\ttrain-error:0.007023\ttrain-auc:0.995317\tval_1-error:0.011333\tval_1-auc:0.984418\tval_2-error:0.01004\tval_2-auc:0.987638\tval-error:0.010687\tval-auc:0.986116\ttrain-score:0.703695\tval_1-score:0.478538\tval_2-score:0.587694\tval-score:0.536148\n",
      "[4]\ttrain-error:0.007\ttrain-auc:0.995329\tval_1-error:0.011313\tval_1-auc:0.984423\tval_2-error:0.01006\tval_2-auc:0.987639\tval-error:0.010687\tval-auc:0.98612\ttrain-score:0.703472\tval_1-score:0.480093\tval_2-score:0.588119\tval-score:0.535259\n",
      "[5]\ttrain-error:0.006986\ttrain-auc:0.995339\tval_1-error:0.011333\tval_1-auc:0.984415\tval_2-error:0.01006\tval_2-auc:0.987654\tval-error:0.010697\tval-auc:0.986124\ttrain-score:0.703834\tval_1-score:0.48056\tval_2-score:0.587694\tval-score:0.535259\n",
      "[6]\ttrain-error:0.006982\ttrain-auc:0.995345\tval_1-error:0.011374\tval_1-auc:0.984438\tval_2-error:0.010101\tval_2-auc:0.987671\tval-error:0.010737\tval-auc:0.986143\ttrain-score:0.70402\tval_1-score:0.48056\tval_2-score:0.586421\tval-score:0.535259\n",
      "[7]\ttrain-error:0.00698\ttrain-auc:0.99535\tval_1-error:0.011374\tval_1-auc:0.984421\tval_2-error:0.010101\tval_2-auc:0.987658\tval-error:0.010737\tval-auc:0.986128\ttrain-score:0.704317\tval_1-score:0.480093\tval_2-score:0.586987\tval-score:0.534222\n",
      "[8]\ttrain-error:0.00698\ttrain-auc:0.995357\tval_1-error:0.011374\tval_1-auc:0.984433\tval_2-error:0.010101\tval_2-auc:0.987653\tval-error:0.010737\tval-auc:0.98613\ttrain-score:0.704874\tval_1-score:0.478383\tval_2-score:0.587694\tval-score:0.53637\n",
      "[9]\ttrain-error:0.006972\ttrain-auc:0.995361\tval_1-error:0.011374\tval_1-auc:0.98444\tval_2-error:0.010101\tval_2-auc:0.987661\tval-error:0.010737\tval-auc:0.986137\ttrain-score:0.704911\tval_1-score:0.477916\tval_2-score:0.587129\tval-score:0.535852\n",
      "[10]\ttrain-error:0.006962\ttrain-auc:0.995363\tval_1-error:0.011394\tval_1-auc:0.984411\tval_2-error:0.010081\tval_2-auc:0.987661\tval-error:0.010737\tval-auc:0.986124\ttrain-score:0.704902\tval_1-score:0.478383\tval_2-score:0.586563\tval-score:0.535333\n",
      "[11]\ttrain-error:0.006955\ttrain-auc:0.995399\tval_1-error:0.011374\tval_1-auc:0.984402\tval_2-error:0.01006\tval_2-auc:0.987648\tval-error:0.010717\tval-auc:0.986113\ttrain-score:0.706981\tval_1-score:0.477138\tval_2-score:0.582885\tval-score:0.534815\n",
      "[12]\ttrain-error:0.00695\ttrain-auc:0.995404\tval_1-error:0.011354\tval_1-auc:0.98439\tval_2-error:0.01004\tval_2-auc:0.987661\tval-error:0.010697\tval-auc:0.986113\ttrain-score:0.707436\tval_1-score:0.477138\tval_2-score:0.583451\tval-score:0.535111\n",
      "[13]\ttrain-error:0.00695\ttrain-auc:0.995406\tval_1-error:0.011333\tval_1-auc:0.984399\tval_2-error:0.01002\tval_2-auc:0.987663\tval-error:0.010677\tval-auc:0.986119\ttrain-score:0.707492\tval_1-score:0.477138\tval_2-score:0.583451\tval-score:0.535407\n",
      "[14]\ttrain-error:0.006939\ttrain-auc:0.995421\tval_1-error:0.011333\tval_1-auc:0.984436\tval_2-error:0.01002\tval_2-auc:0.987679\tval-error:0.010677\tval-auc:0.986146\ttrain-score:0.707919\tval_1-score:0.479627\tval_2-score:0.581895\tval-score:0.536074\n",
      "[15]\ttrain-error:0.006912\ttrain-auc:0.995453\tval_1-error:0.011313\tval_1-auc:0.984442\tval_2-error:0.01006\tval_2-auc:0.987702\tval-error:0.010687\tval-auc:0.986164\ttrain-score:0.708884\tval_1-score:0.478694\tval_2-score:0.582603\tval-score:0.535704\n",
      "[16]\ttrain-error:0.006908\ttrain-auc:0.995467\tval_1-error:0.011313\tval_1-auc:0.984437\tval_2-error:0.01006\tval_2-auc:0.987702\tval-error:0.010687\tval-auc:0.986161\ttrain-score:0.708838\tval_1-score:0.479005\tval_2-score:0.583734\tval-score:0.536815\n",
      "[17]\ttrain-error:0.00691\ttrain-auc:0.995476\tval_1-error:0.011313\tval_1-auc:0.98443\tval_2-error:0.01004\tval_2-auc:0.987705\tval-error:0.010677\tval-auc:0.98616\ttrain-score:0.708958\tval_1-score:0.481804\tval_2-score:0.583734\tval-score:0.536148\n",
      "[18]\ttrain-error:0.006908\ttrain-auc:0.995481\tval_1-error:0.011313\tval_1-auc:0.984428\tval_2-error:0.01006\tval_2-auc:0.987703\tval-error:0.010687\tval-auc:0.986157\ttrain-score:0.709432\tval_1-score:0.483048\tval_2-score:0.582885\tval-score:0.536444\n",
      "[19]\ttrain-error:0.006898\ttrain-auc:0.995484\tval_1-error:0.011313\tval_1-auc:0.984448\tval_2-error:0.01006\tval_2-auc:0.987702\tval-error:0.010687\tval-auc:0.986165\ttrain-score:0.709729\tval_1-score:0.484759\tval_2-score:0.582885\tval-score:0.537333\n",
      "[20]\ttrain-error:0.006891\ttrain-auc:0.995488\tval_1-error:0.011414\tval_1-auc:0.984468\tval_2-error:0.01004\tval_2-auc:0.987702\tval-error:0.010727\tval-auc:0.986174\ttrain-score:0.70971\tval_1-score:0.486003\tval_2-score:0.583451\tval-score:0.537852\n",
      "[21]\ttrain-error:0.006896\ttrain-auc:0.995501\tval_1-error:0.011374\tval_1-auc:0.984486\tval_2-error:0.01006\tval_2-auc:0.987741\tval-error:0.010717\tval-auc:0.986203\ttrain-score:0.710323\tval_1-score:0.482893\tval_2-score:0.586704\tval-score:0.539259\n",
      "[22]\ttrain-error:0.006894\ttrain-auc:0.995515\tval_1-error:0.011374\tval_1-auc:0.984474\tval_2-error:0.01006\tval_2-auc:0.987736\tval-error:0.010717\tval-auc:0.986194\ttrain-score:0.711177\tval_1-score:0.48367\tval_2-score:0.58727\tval-score:0.536741\n",
      "[23]\ttrain-error:0.006886\ttrain-auc:0.995527\tval_1-error:0.011414\tval_1-auc:0.984474\tval_2-error:0.01004\tval_2-auc:0.987677\tval-error:0.010727\tval-auc:0.986162\ttrain-score:0.711298\tval_1-score:0.485537\tval_2-score:0.587977\tval-score:0.536741\n",
      "[24]\ttrain-error:0.006873\ttrain-auc:0.995538\tval_1-error:0.011414\tval_1-auc:0.984466\tval_2-error:0.01\tval_2-auc:0.98772\tval-error:0.010707\tval-auc:0.986181\ttrain-score:0.711725\tval_1-score:0.486003\tval_2-score:0.588402\tval-score:0.536519\n",
      "[25]\ttrain-error:0.006872\ttrain-auc:0.995543\tval_1-error:0.011414\tval_1-auc:0.984466\tval_2-error:0.01002\tval_2-auc:0.987716\tval-error:0.010717\tval-auc:0.986179\ttrain-score:0.71204\tval_1-score:0.486003\tval_2-score:0.586987\tval-score:0.535778\n",
      "[26]\ttrain-error:0.006864\ttrain-auc:0.995548\tval_1-error:0.011414\tval_1-auc:0.984461\tval_2-error:0.01004\tval_2-auc:0.987712\tval-error:0.010727\tval-auc:0.986174\ttrain-score:0.71204\tval_1-score:0.48507\tval_2-score:0.587412\tval-score:0.536\n",
      "[27]\ttrain-error:0.006853\ttrain-auc:0.995556\tval_1-error:0.011394\tval_1-auc:0.984487\tval_2-error:0.01006\tval_2-auc:0.987706\tval-error:0.010727\tval-auc:0.986183\ttrain-score:0.712282\tval_1-score:0.485692\tval_2-score:0.584441\tval-score:0.536444\n",
      "[28]\ttrain-error:0.00683\ttrain-auc:0.995592\tval_1-error:0.011354\tval_1-auc:0.984542\tval_2-error:0.01002\tval_2-auc:0.987787\tval-error:0.010687\tval-auc:0.986247\ttrain-score:0.713814\tval_1-score:0.484603\tval_2-score:0.5843\tval-score:0.536815\n",
      "[29]\ttrain-error:0.006834\ttrain-auc:0.995601\tval_1-error:0.011354\tval_1-auc:0.984562\tval_2-error:0.01006\tval_2-auc:0.987797\tval-error:0.010707\tval-auc:0.986263\ttrain-score:0.713906\tval_1-score:0.486003\tval_2-score:0.585573\tval-score:0.534741\n",
      "[30]\ttrain-error:0.006827\ttrain-auc:0.995627\tval_1-error:0.011374\tval_1-auc:0.984572\tval_2-error:0.010081\tval_2-auc:0.987828\tval-error:0.010727\tval-auc:0.986284\ttrain-score:0.714009\tval_1-score:0.486003\tval_2-score:0.585573\tval-score:0.534963\n",
      "[31]\ttrain-error:0.006808\ttrain-auc:0.995648\tval_1-error:0.011313\tval_1-auc:0.984602\tval_2-error:0.01002\tval_2-auc:0.987847\tval-error:0.010667\tval-auc:0.986309\ttrain-score:0.714194\tval_1-score:0.485692\tval_2-score:0.584583\tval-score:0.534593\n",
      "[32]\ttrain-error:0.006808\ttrain-auc:0.995654\tval_1-error:0.011313\tval_1-auc:0.984601\tval_2-error:0.01002\tval_2-auc:0.987847\tval-error:0.010667\tval-auc:0.986309\ttrain-score:0.714296\tval_1-score:0.485692\tval_2-score:0.584583\tval-score:0.53437\n",
      "[33]\ttrain-error:0.006805\ttrain-auc:0.995661\tval_1-error:0.011313\tval_1-auc:0.984629\tval_2-error:0.01002\tval_2-auc:0.987855\tval-error:0.010667\tval-auc:0.986327\ttrain-score:0.714166\tval_1-score:0.48647\tval_2-score:0.585856\tval-score:0.536\n"
     ]
    },
    {
     "name": "stdout",
     "output_type": "stream",
     "text": [
      "[34]\ttrain-error:0.006786\ttrain-auc:0.995676\tval_1-error:0.011333\tval_1-auc:0.984691\tval_2-error:0.01002\tval_2-auc:0.987914\tval-error:0.010677\tval-auc:0.986386\ttrain-score:0.715225\tval_1-score:0.487869\tval_2-score:0.585856\tval-score:0.537778\n",
      "[35]\ttrain-error:0.006787\ttrain-auc:0.995678\tval_1-error:0.011333\tval_1-auc:0.984692\tval_2-error:0.01002\tval_2-auc:0.987914\tval-error:0.010677\tval-auc:0.986387\ttrain-score:0.715485\tval_1-score:0.487869\tval_2-score:0.585856\tval-score:0.537778\n",
      "[36]\ttrain-error:0.006785\ttrain-auc:0.995684\tval_1-error:0.011333\tval_1-auc:0.984685\tval_2-error:0.01002\tval_2-auc:0.987915\tval-error:0.010677\tval-auc:0.986385\ttrain-score:0.715828\tval_1-score:0.487869\tval_2-score:0.585856\tval-score:0.537778\n",
      "[37]\ttrain-error:0.006783\ttrain-auc:0.995696\tval_1-error:0.011333\tval_1-auc:0.98468\tval_2-error:0.01002\tval_2-auc:0.987952\tval-error:0.010677\tval-auc:0.986403\ttrain-score:0.716004\tval_1-score:0.487247\tval_2-score:0.583876\tval-score:0.538074\n",
      "[38]\ttrain-error:0.006779\ttrain-auc:0.995703\tval_1-error:0.011354\tval_1-auc:0.984671\tval_2-error:0.01002\tval_2-auc:0.987943\tval-error:0.010687\tval-auc:0.986394\ttrain-score:0.715912\tval_1-score:0.486781\tval_2-score:0.583168\tval-score:0.537704\n",
      "[39]\ttrain-error:0.006769\ttrain-auc:0.995705\tval_1-error:0.011354\tval_1-auc:0.984672\tval_2-error:0.01002\tval_2-auc:0.987942\tval-error:0.010687\tval-auc:0.986395\ttrain-score:0.715967\tval_1-score:0.486781\tval_2-score:0.583168\tval-score:0.536593\n",
      "[40]\ttrain-error:0.006763\ttrain-auc:0.995719\tval_1-error:0.011354\tval_1-auc:0.984659\tval_2-error:0.01004\tval_2-auc:0.987959\tval-error:0.010697\tval-auc:0.986396\ttrain-score:0.716626\tval_1-score:0.487247\tval_2-score:0.582885\tval-score:0.537556\n",
      "[41]\ttrain-error:0.006763\ttrain-auc:0.995727\tval_1-error:0.011354\tval_1-auc:0.984662\tval_2-error:0.01004\tval_2-auc:0.987959\tval-error:0.010697\tval-auc:0.986398\ttrain-score:0.716886\tval_1-score:0.487247\tval_2-score:0.582885\tval-score:0.536148\n",
      "[42]\ttrain-error:0.006751\ttrain-auc:0.995756\tval_1-error:0.011313\tval_1-auc:0.984641\tval_2-error:0.01004\tval_2-auc:0.98794\tval-error:0.010677\tval-auc:0.986381\ttrain-score:0.7171\tval_1-score:0.486159\tval_2-score:0.582178\tval-score:0.539333\n",
      "[43]\ttrain-error:0.006758\ttrain-auc:0.995776\tval_1-error:0.011313\tval_1-auc:0.984662\tval_2-error:0.01006\tval_2-auc:0.98793\tval-error:0.010687\tval-auc:0.986386\ttrain-score:0.717425\tval_1-score:0.485848\tval_2-score:0.582744\tval-score:0.539259\n",
      "[44]\ttrain-error:0.006741\ttrain-auc:0.995811\tval_1-error:0.011313\tval_1-auc:0.984759\tval_2-error:0.01\tval_2-auc:0.987944\tval-error:0.010656\tval-auc:0.986436\ttrain-score:0.719356\tval_1-score:0.485848\tval_2-score:0.582461\tval-score:0.540519\n",
      "[45]\ttrain-error:0.00673\ttrain-auc:0.995834\tval_1-error:0.011333\tval_1-auc:0.984792\tval_2-error:0.01\tval_2-auc:0.98796\tval-error:0.010667\tval-auc:0.98646\ttrain-score:0.720841\tval_1-score:0.487558\tval_2-score:0.581754\tval-score:0.539481\n",
      "[46]\ttrain-error:0.006728\ttrain-auc:0.995844\tval_1-error:0.011354\tval_1-auc:0.984818\tval_2-error:0.00998\tval_2-auc:0.98796\tval-error:0.010667\tval-auc:0.986471\ttrain-score:0.720878\tval_1-score:0.487558\tval_2-score:0.584724\tval-score:0.54\n",
      "[47]\ttrain-error:0.006721\ttrain-auc:0.995848\tval_1-error:0.011354\tval_1-auc:0.984812\tval_2-error:0.01\tval_2-auc:0.987953\tval-error:0.010677\tval-auc:0.986464\ttrain-score:0.721017\tval_1-score:0.486936\tval_2-score:0.584724\tval-score:0.540296\n",
      "[48]\ttrain-error:0.006708\ttrain-auc:0.995853\tval_1-error:0.011354\tval_1-auc:0.984812\tval_2-error:0.01004\tval_2-auc:0.987937\tval-error:0.010697\tval-auc:0.986455\ttrain-score:0.720841\tval_1-score:0.486314\tval_2-score:0.584724\tval-score:0.539556\n",
      "[49]\ttrain-error:0.006711\ttrain-auc:0.995855\tval_1-error:0.011354\tval_1-auc:0.984804\tval_2-error:0.01004\tval_2-auc:0.987935\tval-error:0.010697\tval-auc:0.986451\ttrain-score:0.720906\tval_1-score:0.485381\tval_2-score:0.584724\tval-score:0.539556\n",
      "Wall time: 10min 5s\n"
     ]
    }
   ],
   "source": [
    "%time xgb_model = xgb.train(params, xgtrain, num_rounds, evallist,\\\n",
    "    feval=my_score3, early_stopping_rounds=early_stopping_rounds, xgb_model = xgb_model)"
   ]
  },
  {
   "cell_type": "markdown",
   "metadata": {},
   "source": [
    "**** save or load the model ****"
   ]
  },
  {
   "cell_type": "code",
   "execution_count": 94,
   "metadata": {},
   "outputs": [],
   "source": [
    "# save the model\n",
    "xgb_model.save_model('model_log/0015.model')\n",
    "# dump model with feature map\n",
    "xgb_model.dump_model('model_log/dumpraw0015.txt')"
   ]
  },
  {
   "cell_type": "code",
   "execution_count": 91,
   "metadata": {},
   "outputs": [],
   "source": [
    "# load the model\n",
    "xgb_model = xgb.Booster({'nthread': 4})  # init model\n",
    "xgb_model.load_model('model_log/0015.model')  # load model"
   ]
  },
  {
   "cell_type": "markdown",
   "metadata": {},
   "source": [
    "**** train the existing model on the validation set ****"
   ]
  },
  {
   "cell_type": "code",
   "execution_count": null,
   "metadata": {},
   "outputs": [],
   "source": [
    "xgval = xgb.DMatrix(valid_x.values, label=valid_y.values)"
   ]
  },
  {
   "cell_type": "code",
   "execution_count": null,
   "metadata": {},
   "outputs": [],
   "source": [
    "%time xgb_model = xgb.train(params, xgval, num_rounds, [(xgval, 'validation')], feval=my_score3, early_stopping_rounds=early_stopping_rounds, xgb_model = xgb_model)"
   ]
  },
  {
   "cell_type": "code",
   "execution_count": null,
   "metadata": {},
   "outputs": [],
   "source": []
  },
  {
   "cell_type": "markdown",
   "metadata": {},
   "source": [
    "**** predict on the testset ****"
   ]
  },
  {
   "cell_type": "code",
   "execution_count": null,
   "metadata": {},
   "outputs": [],
   "source": [
    "# load test data\n",
    "test_whole = pd.read_feather(\"tmp/test_native\")"
   ]
  },
  {
   "cell_type": "code",
   "execution_count": 97,
   "metadata": {},
   "outputs": [],
   "source": [
    "xgtest = xgb.DMatrix(test.iloc[:,2:].values)\n",
    "\n",
    "# make predictions\n",
    "preds = xgb_model.predict(xgtest)#, ntree_limit=xgb_model.best_ntree_limit)\n",
    "\n",
    "res = pd.concat([test.id, pd.Series(list(preds), name='score')], axis=1)\n",
    "\n",
    "res.to_csv(\"0015.csv\", index=False)"
   ]
  },
  {
   "cell_type": "code",
   "execution_count": null,
   "metadata": {},
   "outputs": [],
   "source": [
    "# the positive ratio of the test data\n",
    "print('Ratio of positive label in unlabeled data: {}%'.format((preds>0.5).sum()/preds.shape[0]*100))"
   ]
  },
  {
   "cell_type": "markdown",
   "metadata": {},
   "source": [
    "**** predict on the unlabeled training set ****"
   ]
  },
  {
   "cell_type": "code",
   "execution_count": null,
   "metadata": {},
   "outputs": [],
   "source": [
    "xgunlabeled = xgb.DMatrix(unlabeled.iloc[:,3:].values)"
   ]
  },
  {
   "cell_type": "code",
   "execution_count": null,
   "metadata": {},
   "outputs": [],
   "source": [
    "unlabeled.reset_index(drop=True, inplace=True)"
   ]
  },
  {
   "cell_type": "code",
   "execution_count": null,
   "metadata": {},
   "outputs": [],
   "source": [
    "pred_xgunlabeled = xgb_model.predict(xgunlabeled)"
   ]
  },
  {
   "cell_type": "code",
   "execution_count": null,
   "metadata": {},
   "outputs": [],
   "source": [
    "# set the labels for the unlabeled training data\n",
    "unlabeled['label'] = pd.Series((pred_xgunlabeled>0.5).astype(int), name='label')"
   ]
  },
  {
   "cell_type": "code",
   "execution_count": null,
   "metadata": {},
   "outputs": [],
   "source": [
    "res = pd.concat([unlabeled.id, pd.Series(list(pred_xgunlabeled), name='score')], axis=1)\n",
    "res.to_csv(\"Yabin_unlabeled0011.csv\", index=False)"
   ]
  },
  {
   "cell_type": "code",
   "execution_count": null,
   "metadata": {},
   "outputs": [],
   "source": [
    "# the positive ratio of the unlabeled data\n",
    "print('Ratio of positive label in unlabeled data: {}%'.format((pred_xgunlabeled>0.5).sum()/res.shape[0]*100))"
   ]
  },
  {
   "cell_type": "code",
   "execution_count": null,
   "metadata": {},
   "outputs": [],
   "source": []
  },
  {
   "cell_type": "code",
   "execution_count": null,
   "metadata": {},
   "outputs": [],
   "source": []
  }
 ],
 "metadata": {
  "kernelspec": {
   "display_name": "Python 3",
   "language": "python",
   "name": "python3"
  },
  "language_info": {
   "codemirror_mode": {
    "name": "ipython",
    "version": 3
   },
   "file_extension": ".py",
   "mimetype": "text/x-python",
   "name": "python",
   "nbconvert_exporter": "python",
   "pygments_lexer": "ipython3",
   "version": "3.6.5"
  }
 },
 "nbformat": 4,
 "nbformat_minor": 2
}
