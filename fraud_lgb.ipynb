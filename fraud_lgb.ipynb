{
 "cells": [
  {
   "cell_type": "code",
   "execution_count": 1,
   "metadata": {},
   "outputs": [],
   "source": [
    "import lightgbm as lgbm\n",
    "import pandas as pd\n",
    "import numpy as np\n",
    "from pandas.api.types import is_numeric_dtype\n",
    "import matplotlib\n",
    "import matplotlib.pyplot as plt\n",
    "from sklearn.decomposition import PCA\n",
    "import pickle\n",
    "from sklearn import preprocessing\n",
    "from sklearn.metrics import roc_curve\n",
    "from scipy import stats\n",
    "from scipy.stats import zscore\n",
    "from sklearn.ensemble import RandomForestClassifier\n",
    "from sklearn.model_selection import StratifiedKFold as SKF\n",
    "from sklearn import metrics\n",
    "# from fancyimpute import *\n",
    "\n",
    "from utils import *\n",
    "%matplotlib inline\n",
    "\n",
    "dtype = load_obj('dict_dtype')\n",
    "my_dict = load_obj('my_dict')"
   ]
  },
  {
   "cell_type": "markdown",
   "metadata": {
    "heading_collapsed": true
   },
   "source": [
    "### Category"
   ]
  },
  {
   "cell_type": "code",
   "execution_count": 2,
   "metadata": {
    "hidden": true
   },
   "outputs": [],
   "source": [
    "train = pd.read_csv(\"atec_anti_fraud_train.csv\",parse_dates=['date'], dtype = dtype)\n",
    "test = pd.read_csv(\"atec_anti_fraud_test_a.csv\",parse_dates=['date'], dtype = dtype)\n",
    "\n",
    "train = process_dates(train, 'date')\n",
    "test = process_dates(test, 'date')"
   ]
  },
  {
   "cell_type": "code",
   "execution_count": 3,
   "metadata": {
    "hidden": true
   },
   "outputs": [],
   "source": [
    "train_cate = pd.read_csv(\"obj/id_cate_train.csv\")\n",
    "test_cate = pd.read_csv(\"obj/id_cate_test.csv\")"
   ]
  },
  {
   "cell_type": "code",
   "execution_count": 11,
   "metadata": {
    "hidden": true
   },
   "outputs": [
    {
     "data": {
      "text/html": [
       "<div>\n",
       "<style scoped>\n",
       "    .dataframe tbody tr th:only-of-type {\n",
       "        vertical-align: middle;\n",
       "    }\n",
       "\n",
       "    .dataframe tbody tr th {\n",
       "        vertical-align: top;\n",
       "    }\n",
       "\n",
       "    .dataframe thead th {\n",
       "        text-align: right;\n",
       "    }\n",
       "</style>\n",
       "<table border=\"1\" class=\"dataframe\">\n",
       "  <thead>\n",
       "    <tr style=\"text-align: right;\">\n",
       "      <th></th>\n",
       "      <th>id</th>\n",
       "      <th>label</th>\n",
       "      <th>date</th>\n",
       "      <th>f1</th>\n",
       "      <th>f2</th>\n",
       "      <th>f3</th>\n",
       "      <th>f4</th>\n",
       "      <th>f5</th>\n",
       "      <th>f6</th>\n",
       "      <th>f7</th>\n",
       "      <th>...</th>\n",
       "      <th>f289</th>\n",
       "      <th>f290</th>\n",
       "      <th>f291</th>\n",
       "      <th>f292</th>\n",
       "      <th>f293</th>\n",
       "      <th>f294</th>\n",
       "      <th>f295</th>\n",
       "      <th>f296</th>\n",
       "      <th>f297</th>\n",
       "      <th>cate</th>\n",
       "    </tr>\n",
       "  </thead>\n",
       "  <tbody>\n",
       "    <tr>\n",
       "      <th>0</th>\n",
       "      <td>f10eb20f31cf7063ee8bdbd1272214e4d7e0193c8dbce4...</td>\n",
       "      <td>0</td>\n",
       "      <td>2017-11-03</td>\n",
       "      <td>0</td>\n",
       "      <td>0</td>\n",
       "      <td>0</td>\n",
       "      <td>0</td>\n",
       "      <td>100807.0</td>\n",
       "      <td>0</td>\n",
       "      <td>5</td>\n",
       "      <td>...</td>\n",
       "      <td>312.0</td>\n",
       "      <td>328.0</td>\n",
       "      <td>85.0</td>\n",
       "      <td>302.0</td>\n",
       "      <td>201.0</td>\n",
       "      <td>203.0</td>\n",
       "      <td>203.0</td>\n",
       "      <td>61.0</td>\n",
       "      <td>201.0</td>\n",
       "      <td>0</td>\n",
       "    </tr>\n",
       "    <tr>\n",
       "      <th>1</th>\n",
       "      <td>d861929b67938d06538b910b9f6b85f5eb62b6ad7361ba...</td>\n",
       "      <td>0</td>\n",
       "      <td>2017-09-17</td>\n",
       "      <td>0</td>\n",
       "      <td>1</td>\n",
       "      <td>1</td>\n",
       "      <td>1</td>\n",
       "      <td>100805.0</td>\n",
       "      <td>1</td>\n",
       "      <td>5</td>\n",
       "      <td>...</td>\n",
       "      <td>324.0</td>\n",
       "      <td>391.0</td>\n",
       "      <td>13.0</td>\n",
       "      <td>302.0</td>\n",
       "      <td>160.0</td>\n",
       "      <td>160.0</td>\n",
       "      <td>161.0</td>\n",
       "      <td>8.0</td>\n",
       "      <td>160.0</td>\n",
       "      <td>0</td>\n",
       "    </tr>\n",
       "    <tr>\n",
       "      <th>2</th>\n",
       "      <td>1270cb8a85eedd57672b2c6297fa5633e36773a2c3a351...</td>\n",
       "      <td>0</td>\n",
       "      <td>2017-10-22</td>\n",
       "      <td>0</td>\n",
       "      <td>0</td>\n",
       "      <td>1</td>\n",
       "      <td>0</td>\n",
       "      <td>100102.0</td>\n",
       "      <td>0</td>\n",
       "      <td>6</td>\n",
       "      <td>...</td>\n",
       "      <td>NaN</td>\n",
       "      <td>NaN</td>\n",
       "      <td>NaN</td>\n",
       "      <td>NaN</td>\n",
       "      <td>NaN</td>\n",
       "      <td>NaN</td>\n",
       "      <td>NaN</td>\n",
       "      <td>NaN</td>\n",
       "      <td>NaN</td>\n",
       "      <td>1</td>\n",
       "    </tr>\n",
       "    <tr>\n",
       "      <th>3</th>\n",
       "      <td>9fa009724ee7ff9d688ae321304fbc78f608cdabbfdd2b...</td>\n",
       "      <td>0</td>\n",
       "      <td>2017-10-29</td>\n",
       "      <td>0</td>\n",
       "      <td>0</td>\n",
       "      <td>0</td>\n",
       "      <td>1</td>\n",
       "      <td>100807.0</td>\n",
       "      <td>1</td>\n",
       "      <td>4</td>\n",
       "      <td>...</td>\n",
       "      <td>322.0</td>\n",
       "      <td>341.0</td>\n",
       "      <td>57.0</td>\n",
       "      <td>251.0</td>\n",
       "      <td>175.0</td>\n",
       "      <td>176.0</td>\n",
       "      <td>176.0</td>\n",
       "      <td>49.0</td>\n",
       "      <td>150.0</td>\n",
       "      <td>2</td>\n",
       "    </tr>\n",
       "    <tr>\n",
       "      <th>4</th>\n",
       "      <td>1da482485d7e8bcefae7e9d0d1167cec3ac111cfa71d8b...</td>\n",
       "      <td>0</td>\n",
       "      <td>2017-10-02</td>\n",
       "      <td>1</td>\n",
       "      <td>1</td>\n",
       "      <td>0</td>\n",
       "      <td>1</td>\n",
       "      <td>100805.0</td>\n",
       "      <td>1</td>\n",
       "      <td>5</td>\n",
       "      <td>...</td>\n",
       "      <td>301.0</td>\n",
       "      <td>301.0</td>\n",
       "      <td>74.0</td>\n",
       "      <td>302.0</td>\n",
       "      <td>182.0</td>\n",
       "      <td>181.0</td>\n",
       "      <td>182.0</td>\n",
       "      <td>51.0</td>\n",
       "      <td>181.0</td>\n",
       "      <td>0</td>\n",
       "    </tr>\n",
       "  </tbody>\n",
       "</table>\n",
       "<p>5 rows × 301 columns</p>\n",
       "</div>"
      ],
      "text/plain": [
       "                                                  id  label       date  f1  \\\n",
       "0  f10eb20f31cf7063ee8bdbd1272214e4d7e0193c8dbce4...      0 2017-11-03   0   \n",
       "1  d861929b67938d06538b910b9f6b85f5eb62b6ad7361ba...      0 2017-09-17   0   \n",
       "2  1270cb8a85eedd57672b2c6297fa5633e36773a2c3a351...      0 2017-10-22   0   \n",
       "3  9fa009724ee7ff9d688ae321304fbc78f608cdabbfdd2b...      0 2017-10-29   0   \n",
       "4  1da482485d7e8bcefae7e9d0d1167cec3ac111cfa71d8b...      0 2017-10-02   1   \n",
       "\n",
       "   f2  f3  f4        f5  f6  f7  ...    f289   f290  f291   f292   f293  \\\n",
       "0   0   0   0  100807.0   0   5  ...   312.0  328.0  85.0  302.0  201.0   \n",
       "1   1   1   1  100805.0   1   5  ...   324.0  391.0  13.0  302.0  160.0   \n",
       "2   0   1   0  100102.0   0   6  ...     NaN    NaN   NaN    NaN    NaN   \n",
       "3   0   0   1  100807.0   1   4  ...   322.0  341.0  57.0  251.0  175.0   \n",
       "4   1   0   1  100805.0   1   5  ...   301.0  301.0  74.0  302.0  182.0   \n",
       "\n",
       "    f294   f295  f296   f297  cate  \n",
       "0  203.0  203.0  61.0  201.0     0  \n",
       "1  160.0  161.0   8.0  160.0     0  \n",
       "2    NaN    NaN   NaN    NaN     1  \n",
       "3  176.0  176.0  49.0  150.0     2  \n",
       "4  181.0  182.0  51.0  181.0     0  \n",
       "\n",
       "[5 rows x 301 columns]"
      ]
     },
     "execution_count": 11,
     "metadata": {},
     "output_type": "execute_result"
    }
   ],
   "source": [
    "train = train.merge(train_cate, how='inner', on='id')\n",
    "train.head()"
   ]
  },
  {
   "cell_type": "code",
   "execution_count": 14,
   "metadata": {
    "hidden": true
   },
   "outputs": [
    {
     "data": {
      "text/plain": [
       "(21,)"
      ]
     },
     "execution_count": 14,
     "metadata": {},
     "output_type": "execute_result"
    }
   ],
   "source": [
    "train[train['label']==1].cate.unique().shape"
   ]
  },
  {
   "cell_type": "code",
   "execution_count": 21,
   "metadata": {
    "hidden": true
   },
   "outputs": [
    {
     "data": {
      "text/plain": [
       "cate\n",
       "0     5152\n",
       "1      173\n",
       "2      443\n",
       "3       35\n",
       "4       13\n",
       "5      596\n",
       "6        1\n",
       "7     5047\n",
       "8      108\n",
       "9      236\n",
       "10      15\n",
       "11     214\n",
       "12       1\n",
       "13      36\n",
       "14      17\n",
       "15       5\n",
       "16       6\n",
       "21       1\n",
       "23       1\n",
       "24       1\n",
       "26      21\n",
       "Name: id, dtype: int64"
      ]
     },
     "execution_count": 21,
     "metadata": {},
     "output_type": "execute_result"
    }
   ],
   "source": [
    "train[train['label']==1].groupby('cate').id.count()"
   ]
  },
  {
   "cell_type": "code",
   "execution_count": 16,
   "metadata": {
    "hidden": true
   },
   "outputs": [
    {
     "data": {
      "text/plain": [
       "(34,)"
      ]
     },
     "execution_count": 16,
     "metadata": {},
     "output_type": "execute_result"
    }
   ],
   "source": [
    "train[train['label']==0].cate.unique().shape"
   ]
  },
  {
   "cell_type": "code",
   "execution_count": 23,
   "metadata": {
    "hidden": true
   },
   "outputs": [
    {
     "data": {
      "text/plain": [
       "cate\n",
       "0     568661\n",
       "1      27374\n",
       "2      51540\n",
       "3      60495\n",
       "4       2825\n",
       "5      46956\n",
       "6       4377\n",
       "7     124926\n",
       "8      64149\n",
       "9      13722\n",
       "10      2483\n",
       "11      2976\n",
       "12       214\n",
       "13      1129\n",
       "14      3770\n",
       "15       195\n",
       "16       774\n",
       "17       240\n",
       "18       188\n",
       "19        38\n",
       "20       551\n",
       "21        25\n",
       "22         8\n",
       "23       128\n",
       "24        83\n",
       "25         3\n",
       "26        23\n",
       "27        15\n",
       "28         6\n",
       "29         3\n",
       "30         2\n",
       "31         2\n",
       "32         2\n",
       "33         1\n",
       "Name: id, dtype: int64"
      ]
     },
     "execution_count": 23,
     "metadata": {},
     "output_type": "execute_result"
    }
   ],
   "source": [
    "train[train['label']==0].groupby('cate').id.count()"
   ]
  },
  {
   "cell_type": "code",
   "execution_count": 18,
   "metadata": {
    "hidden": true
   },
   "outputs": [
    {
     "data": {
      "text/plain": [
       "(28,)"
      ]
     },
     "execution_count": 18,
     "metadata": {},
     "output_type": "execute_result"
    }
   ],
   "source": [
    "test_cate.cate.unique().shape"
   ]
  },
  {
   "cell_type": "code",
   "execution_count": null,
   "metadata": {
    "hidden": true
   },
   "outputs": [],
   "source": [
    "groups = [[0, 4, 9, 12, 13, 32, 33], [1, 5], [18, 31], [3, 8, 15, 17, 19, 20, 29, 32],\\\n",
    " [16, 22, 30], [7, 26], [11, 21, 23, 24, 25, 27],[2, 6, 10, 14, 28]]"
   ]
  },
  {
   "cell_type": "code",
   "execution_count": 24,
   "metadata": {
    "hidden": true
   },
   "outputs": [
    {
     "data": {
      "text/plain": [
       "cate\n",
       "0     136719\n",
       "1      10667\n",
       "2     166345\n",
       "3      15405\n",
       "4        973\n",
       "5      26572\n",
       "6      10208\n",
       "7      81925\n",
       "8      18847\n",
       "9       5133\n",
       "10      6652\n",
       "11      1027\n",
       "12       167\n",
       "13       637\n",
       "14      7496\n",
       "15        85\n",
       "16      1671\n",
       "17       113\n",
       "18       664\n",
       "19         3\n",
       "20       102\n",
       "22        11\n",
       "23        22\n",
       "24         4\n",
       "26        38\n",
       "27        14\n",
       "28       167\n",
       "33         1\n",
       "Name: id, dtype: int64"
      ]
     },
     "execution_count": 24,
     "metadata": {},
     "output_type": "execute_result"
    }
   ],
   "source": [
    "test_cate.groupby('cate').id.count()"
   ]
  },
  {
   "cell_type": "markdown",
   "metadata": {
    "heading_collapsed": true
   },
   "source": [
    "### Cross validation"
   ]
  },
  {
   "cell_type": "code",
   "execution_count": 2,
   "metadata": {
    "hidden": true
   },
   "outputs": [],
   "source": [
    "train = pd.read_csv(\"atec_anti_fraud_train.csv\",parse_dates=['date'], dtype = dtype)\n",
    "test = pd.read_csv(\"atec_anti_fraud_test_a.csv\",parse_dates=['date'], dtype = dtype)"
   ]
  },
  {
   "cell_type": "code",
   "execution_count": 3,
   "metadata": {
    "hidden": true
   },
   "outputs": [],
   "source": [
    "NFOLDS = 5\n",
    "kfold = SKF(n_splits=NFOLDS, shuffle=True, random_state=666)"
   ]
  },
  {
   "cell_type": "code",
   "execution_count": 4,
   "metadata": {
    "hidden": true
   },
   "outputs": [],
   "source": [
    "train = train[train['label']!=-1]\n",
    "train.sort_values('date', inplace=True)\n",
    "#train_label = data['label']\n",
    "train_id = train['id']\n",
    "test_id = test['id']\n",
    "y = train['label'].values\n",
    "X = train.drop(['id','date','label'], axis=1).values\n",
    "X_test = test.drop(['id','date'], axis=1).values"
   ]
  },
  {
   "cell_type": "code",
   "execution_count": 5,
   "metadata": {
    "hidden": true
   },
   "outputs": [
    {
     "name": "stdout",
     "output_type": "stream",
     "text": [
      "(990006, 297) (990006,) (491668, 297)\n"
     ]
    }
   ],
   "source": [
    "print(X.shape, y.shape, X_test.shape)"
   ]
  },
  {
   "cell_type": "code",
   "execution_count": 6,
   "metadata": {
    "hidden": true
   },
   "outputs": [],
   "source": [
    "cv_only = True\n",
    "num_round = 2\n",
    "\n",
    "learning_rate = 0.1\n",
    "num_leaves = 15\n",
    "min_data_in_leaf = 2000\n",
    "feature_fraction = 0.6\n",
    "num_boost_round = 10000\n",
    "params = {\"objective\": \"binary\",\n",
    "          \"boosting_type\": \"gbdt\",\n",
    "          \"learning_rate\": learning_rate,\n",
    "          \"num_leaves\": num_leaves,\n",
    "           \"max_bin\": 256,\n",
    "          \"feature_fraction\": feature_fraction,\n",
    "          \"verbosity\": 0,\n",
    "          \"drop_rate\": 0.1,\n",
    "          \"is_unbalance\": False,\n",
    "          \"max_drop\": 50,\n",
    "          \"min_child_samples\": 10,\n",
    "          \"min_child_weight\": 150,\n",
    "          \"min_split_gain\": 0,\n",
    "          \"subsample\": 0.9\n",
    "          }"
   ]
  },
  {
   "cell_type": "code",
   "execution_count": 8,
   "metadata": {
    "hidden": true
   },
   "outputs": [
    {
     "name": "stdout",
     "output_type": "stream",
     "text": [
      "Training until validation scores don't improve for 100 rounds.\n",
      "[100]\tvalid_0's binary_logloss: 0.0244259\tvalid_0's score: 0.558062\n",
      "[200]\tvalid_0's binary_logloss: 0.0227919\tvalid_0's score: 0.590474\n",
      "[300]\tvalid_0's binary_logloss: 0.0221914\tvalid_0's score: 0.609485\n",
      "[400]\tvalid_0's binary_logloss: 0.0218556\tvalid_0's score: 0.614763\n",
      "[500]\tvalid_0's binary_logloss: 0.0215348\tvalid_0's score: 0.61934\n",
      "[600]\tvalid_0's binary_logloss: 0.0213655\tvalid_0's score: 0.622722\n",
      "[700]\tvalid_0's binary_logloss: 0.0212159\tvalid_0's score: 0.628247\n",
      "[800]\tvalid_0's binary_logloss: 0.0210865\tvalid_0's score: 0.633691\n",
      "[900]\tvalid_0's binary_logloss: 0.0209925\tvalid_0's score: 0.637113\n",
      "[1000]\tvalid_0's binary_logloss: 0.0208943\tvalid_0's score: 0.636907\n",
      "Early stopping, best iteration is:\n",
      "[976]\tvalid_0's binary_logloss: 0.0209257\tvalid_0's score: 0.638722\n",
      "Training until validation scores don't improve for 100 rounds.\n",
      "[100]\tvalid_0's binary_logloss: 0.0245212\tvalid_0's score: 0.555794\n",
      "[200]\tvalid_0's binary_logloss: 0.0230547\tvalid_0's score: 0.581567\n",
      "[300]\tvalid_0's binary_logloss: 0.0224351\tvalid_0's score: 0.597485\n",
      "[400]\tvalid_0's binary_logloss: 0.0220897\tvalid_0's score: 0.600866\n",
      "[500]\tvalid_0's binary_logloss: 0.0218259\tvalid_0's score: 0.608742\n",
      "[600]\tvalid_0's binary_logloss: 0.0216288\tvalid_0's score: 0.611629\n",
      "[700]\tvalid_0's binary_logloss: 0.0214434\tvalid_0's score: 0.615835\n",
      "[800]\tvalid_0's binary_logloss: 0.0213075\tvalid_0's score: 0.61868\n",
      "[900]\tvalid_0's binary_logloss: 0.0211833\tvalid_0's score: 0.617856\n",
      "[1000]\tvalid_0's binary_logloss: 0.0210881\tvalid_0's score: 0.622392\n",
      "[1100]\tvalid_0's binary_logloss: 0.0210219\tvalid_0's score: 0.623794\n",
      "[1200]\tvalid_0's binary_logloss: 0.0209357\tvalid_0's score: 0.625155\n",
      "Early stopping, best iteration is:\n",
      "[1180]\tvalid_0's binary_logloss: 0.020948\tvalid_0's score: 0.627381\n",
      "Training until validation scores don't improve for 100 rounds.\n",
      "[100]\tvalid_0's binary_logloss: 0.02518\tvalid_0's score: 0.530776\n",
      "[200]\tvalid_0's binary_logloss: 0.0236615\tvalid_0's score: 0.555899\n",
      "[300]\tvalid_0's binary_logloss: 0.022971\tvalid_0's score: 0.57137\n",
      "[400]\tvalid_0's binary_logloss: 0.0226557\tvalid_0's score: 0.578383\n",
      "[500]\tvalid_0's binary_logloss: 0.0224033\tvalid_0's score: 0.584983\n",
      "[600]\tvalid_0's binary_logloss: 0.0222219\tvalid_0's score: 0.588861\n",
      "[700]\tvalid_0's binary_logloss: 0.0220562\tvalid_0's score: 0.593729\n",
      "[800]\tvalid_0's binary_logloss: 0.0219301\tvalid_0's score: 0.595833\n",
      "[900]\tvalid_0's binary_logloss: 0.0217994\tvalid_0's score: 0.601485\n",
      "[1000]\tvalid_0's binary_logloss: 0.0217248\tvalid_0's score: 0.602805\n",
      "[1100]\tvalid_0's binary_logloss: 0.0216426\tvalid_0's score: 0.605652\n",
      "[1200]\tvalid_0's binary_logloss: 0.0215679\tvalid_0's score: 0.60821\n",
      "[1300]\tvalid_0's binary_logloss: 0.0215054\tvalid_0's score: 0.60854\n",
      "[1400]\tvalid_0's binary_logloss: 0.0214655\tvalid_0's score: 0.611716\n",
      "[1500]\tvalid_0's binary_logloss: 0.0214394\tvalid_0's score: 0.612624\n",
      "[1600]\tvalid_0's binary_logloss: 0.0213994\tvalid_0's score: 0.615264\n",
      "[1700]\tvalid_0's binary_logloss: 0.0213716\tvalid_0's score: 0.616749\n",
      "Early stopping, best iteration is:\n",
      "[1617]\tvalid_0's binary_logloss: 0.021399\tvalid_0's score: 0.617203\n",
      "Training until validation scores don't improve for 100 rounds.\n",
      "[100]\tvalid_0's binary_logloss: 0.0242016\tvalid_0's score: 0.545668\n",
      "[200]\tvalid_0's binary_logloss: 0.0227324\tvalid_0's score: 0.57929\n",
      "[300]\tvalid_0's binary_logloss: 0.0221383\tvalid_0's score: 0.590017\n",
      "[400]\tvalid_0's binary_logloss: 0.0218375\tvalid_0's score: 0.595875\n",
      "[500]\tvalid_0's binary_logloss: 0.0216354\tvalid_0's score: 0.605404\n",
      "[600]\tvalid_0's binary_logloss: 0.0214119\tvalid_0's score: 0.609076\n",
      "[700]\tvalid_0's binary_logloss: 0.0212592\tvalid_0's score: 0.614563\n",
      "[800]\tvalid_0's binary_logloss: 0.0211198\tvalid_0's score: 0.614851\n",
      "Early stopping, best iteration is:\n",
      "[781]\tvalid_0's binary_logloss: 0.0211425\tvalid_0's score: 0.617162\n",
      "Training until validation scores don't improve for 100 rounds.\n",
      "[100]\tvalid_0's binary_logloss: 0.0246853\tvalid_0's score: 0.54967\n",
      "[200]\tvalid_0's binary_logloss: 0.0231907\tvalid_0's score: 0.578342\n",
      "[300]\tvalid_0's binary_logloss: 0.0226438\tvalid_0's score: 0.592203\n",
      "[400]\tvalid_0's binary_logloss: 0.0222722\tvalid_0's score: 0.600949\n",
      "[500]\tvalid_0's binary_logloss: 0.0219927\tvalid_0's score: 0.605157\n",
      "[600]\tvalid_0's binary_logloss: 0.0217725\tvalid_0's score: 0.609571\n",
      "[700]\tvalid_0's binary_logloss: 0.0215974\tvalid_0's score: 0.614893\n",
      "[800]\tvalid_0's binary_logloss: 0.0214777\tvalid_0's score: 0.616667\n",
      "[900]\tvalid_0's binary_logloss: 0.0214004\tvalid_0's score: 0.619926\n",
      "[1000]\tvalid_0's binary_logloss: 0.0213113\tvalid_0's score: 0.62566\n",
      "[1100]\tvalid_0's binary_logloss: 0.0212553\tvalid_0's score: 0.62764\n",
      "Early stopping, best iteration is:\n",
      "[1077]\tvalid_0's binary_logloss: 0.0212668\tvalid_0's score: 0.630322\n",
      "cv score: 0.6235357201781885\n",
      "Average score so far: 0.6235357201781885 Round: 1\n",
      "[0.638721649484536, 0.627381443298969, 0.6172029702970298, 0.6171617161716172, 0.6303217821782178]\n",
      "Best trees: [976, 1180, 1617, 781, 1077] There average: 1126.2\n",
      "Training until validation scores don't improve for 100 rounds.\n",
      "[100]\tvalid_0's binary_logloss: 0.0244636\tvalid_0's score: 0.56066\n",
      "[200]\tvalid_0's binary_logloss: 0.022848\tvalid_0's score: 0.587464\n",
      "[300]\tvalid_0's binary_logloss: 0.0222209\tvalid_0's score: 0.601691\n",
      "[400]\tvalid_0's binary_logloss: 0.0218175\tvalid_0's score: 0.607093\n",
      "[500]\tvalid_0's binary_logloss: 0.0216001\tvalid_0's score: 0.612866\n",
      "[600]\tvalid_0's binary_logloss: 0.0213905\tvalid_0's score: 0.621361\n"
     ]
    },
    {
     "ename": "KeyboardInterrupt",
     "evalue": "",
     "output_type": "error",
     "traceback": [
      "\u001b[1;31m---------------------------------------------------------------------------\u001b[0m",
      "\u001b[1;31mKeyboardInterrupt\u001b[0m                         Traceback (most recent call last)",
      "\u001b[1;32m<ipython-input-8-c9d1f0b36302>\u001b[0m in \u001b[0;36m<module>\u001b[1;34m()\u001b[0m\n\u001b[0;32m     20\u001b[0m             \u001b[0mdvalid\u001b[0m \u001b[1;33m=\u001b[0m \u001b[0mlgbm\u001b[0m\u001b[1;33m.\u001b[0m\u001b[0mDataset\u001b[0m\u001b[1;33m(\u001b[0m\u001b[0mX_validate\u001b[0m\u001b[1;33m,\u001b[0m \u001b[0mlabel_validate\u001b[0m\u001b[1;33m,\u001b[0m \u001b[0mreference\u001b[0m\u001b[1;33m=\u001b[0m\u001b[0mdtrain\u001b[0m\u001b[1;33m)\u001b[0m\u001b[1;33m\u001b[0m\u001b[0m\n\u001b[0;32m     21\u001b[0m             bst = lgbm.train(params, dtrain, num_boost_round, valid_sets=dvalid, feval=my_score2, verbose_eval=100,\n\u001b[1;32m---> 22\u001b[1;33m                             early_stopping_rounds=100)\n\u001b[0m\u001b[0;32m     23\u001b[0m             \u001b[0mbest_trees\u001b[0m\u001b[1;33m.\u001b[0m\u001b[0mappend\u001b[0m\u001b[1;33m(\u001b[0m\u001b[0mbst\u001b[0m\u001b[1;33m.\u001b[0m\u001b[0mbest_iteration\u001b[0m\u001b[1;33m)\u001b[0m\u001b[1;33m\u001b[0m\u001b[0m\n\u001b[0;32m     24\u001b[0m             \u001b[0mcv_pred\u001b[0m \u001b[1;33m+=\u001b[0m \u001b[0mbst\u001b[0m\u001b[1;33m.\u001b[0m\u001b[0mpredict\u001b[0m\u001b[1;33m(\u001b[0m\u001b[0mX_test\u001b[0m\u001b[1;33m,\u001b[0m \u001b[0mnum_iteration\u001b[0m\u001b[1;33m=\u001b[0m\u001b[0mbst\u001b[0m\u001b[1;33m.\u001b[0m\u001b[0mbest_iteration\u001b[0m\u001b[1;33m)\u001b[0m\u001b[1;33m\u001b[0m\u001b[0m\n",
      "\u001b[1;32mC:\\ProgramData\\Anaconda3\\lib\\site-packages\\lightgbm\\engine.py\u001b[0m in \u001b[0;36mtrain\u001b[1;34m(params, train_set, num_boost_round, valid_sets, valid_names, fobj, feval, init_model, feature_name, categorical_feature, early_stopping_rounds, evals_result, verbose_eval, learning_rates, keep_training_booster, callbacks)\u001b[0m\n\u001b[0;32m    206\u001b[0m             \u001b[1;32mif\u001b[0m \u001b[0mis_valid_contain_train\u001b[0m\u001b[1;33m:\u001b[0m\u001b[1;33m\u001b[0m\u001b[0m\n\u001b[0;32m    207\u001b[0m                 \u001b[0mevaluation_result_list\u001b[0m\u001b[1;33m.\u001b[0m\u001b[0mextend\u001b[0m\u001b[1;33m(\u001b[0m\u001b[0mbooster\u001b[0m\u001b[1;33m.\u001b[0m\u001b[0meval_train\u001b[0m\u001b[1;33m(\u001b[0m\u001b[0mfeval\u001b[0m\u001b[1;33m)\u001b[0m\u001b[1;33m)\u001b[0m\u001b[1;33m\u001b[0m\u001b[0m\n\u001b[1;32m--> 208\u001b[1;33m             \u001b[0mevaluation_result_list\u001b[0m\u001b[1;33m.\u001b[0m\u001b[0mextend\u001b[0m\u001b[1;33m(\u001b[0m\u001b[0mbooster\u001b[0m\u001b[1;33m.\u001b[0m\u001b[0meval_valid\u001b[0m\u001b[1;33m(\u001b[0m\u001b[0mfeval\u001b[0m\u001b[1;33m)\u001b[0m\u001b[1;33m)\u001b[0m\u001b[1;33m\u001b[0m\u001b[0m\n\u001b[0m\u001b[0;32m    209\u001b[0m         \u001b[1;32mtry\u001b[0m\u001b[1;33m:\u001b[0m\u001b[1;33m\u001b[0m\u001b[0m\n\u001b[0;32m    210\u001b[0m             \u001b[1;32mfor\u001b[0m \u001b[0mcb\u001b[0m \u001b[1;32min\u001b[0m \u001b[0mcallbacks_after_iter\u001b[0m\u001b[1;33m:\u001b[0m\u001b[1;33m\u001b[0m\u001b[0m\n",
      "\u001b[1;32mC:\\ProgramData\\Anaconda3\\lib\\site-packages\\lightgbm\\basic.py\u001b[0m in \u001b[0;36meval_valid\u001b[1;34m(self, feval)\u001b[0m\n\u001b[0;32m   1647\u001b[0m             \u001b[0mList\u001b[0m \u001b[1;32mwith\u001b[0m \u001b[0mevaluation\u001b[0m \u001b[0mresults\u001b[0m\u001b[1;33m.\u001b[0m\u001b[1;33m\u001b[0m\u001b[0m\n\u001b[0;32m   1648\u001b[0m         \"\"\"\n\u001b[1;32m-> 1649\u001b[1;33m         return [item for i in range_(1, self.__num_dataset)\n\u001b[0m\u001b[0;32m   1650\u001b[0m                 for item in self.__inner_eval(self.name_valid_sets[i - 1], i, feval)]\n\u001b[0;32m   1651\u001b[0m \u001b[1;33m\u001b[0m\u001b[0m\n",
      "\u001b[1;32mC:\\ProgramData\\Anaconda3\\lib\\site-packages\\lightgbm\\basic.py\u001b[0m in \u001b[0;36m<listcomp>\u001b[1;34m(.0)\u001b[0m\n\u001b[0;32m   1648\u001b[0m         \"\"\"\n\u001b[0;32m   1649\u001b[0m         return [item for i in range_(1, self.__num_dataset)\n\u001b[1;32m-> 1650\u001b[1;33m                 for item in self.__inner_eval(self.name_valid_sets[i - 1], i, feval)]\n\u001b[0m\u001b[0;32m   1651\u001b[0m \u001b[1;33m\u001b[0m\u001b[0m\n\u001b[0;32m   1652\u001b[0m     \u001b[1;32mdef\u001b[0m \u001b[0msave_model\u001b[0m\u001b[1;33m(\u001b[0m\u001b[0mself\u001b[0m\u001b[1;33m,\u001b[0m \u001b[0mfilename\u001b[0m\u001b[1;33m,\u001b[0m \u001b[0mnum_iteration\u001b[0m\u001b[1;33m=\u001b[0m\u001b[1;33m-\u001b[0m\u001b[1;36m1\u001b[0m\u001b[1;33m)\u001b[0m\u001b[1;33m:\u001b[0m\u001b[1;33m\u001b[0m\u001b[0m\n",
      "\u001b[1;32mC:\\ProgramData\\Anaconda3\\lib\\site-packages\\lightgbm\\basic.py\u001b[0m in \u001b[0;36m__inner_eval\u001b[1;34m(self, data_name, data_idx, feval)\u001b[0m\n\u001b[0;32m   1912\u001b[0m             \u001b[1;32melse\u001b[0m\u001b[1;33m:\u001b[0m\u001b[1;33m\u001b[0m\u001b[0m\n\u001b[0;32m   1913\u001b[0m                 \u001b[0mcur_data\u001b[0m \u001b[1;33m=\u001b[0m \u001b[0mself\u001b[0m\u001b[1;33m.\u001b[0m\u001b[0mvalid_sets\u001b[0m\u001b[1;33m[\u001b[0m\u001b[0mdata_idx\u001b[0m \u001b[1;33m-\u001b[0m \u001b[1;36m1\u001b[0m\u001b[1;33m]\u001b[0m\u001b[1;33m\u001b[0m\u001b[0m\n\u001b[1;32m-> 1914\u001b[1;33m             \u001b[0mfeval_ret\u001b[0m \u001b[1;33m=\u001b[0m \u001b[0mfeval\u001b[0m\u001b[1;33m(\u001b[0m\u001b[0mself\u001b[0m\u001b[1;33m.\u001b[0m\u001b[0m__inner_predict\u001b[0m\u001b[1;33m(\u001b[0m\u001b[0mdata_idx\u001b[0m\u001b[1;33m)\u001b[0m\u001b[1;33m,\u001b[0m \u001b[0mcur_data\u001b[0m\u001b[1;33m)\u001b[0m\u001b[1;33m\u001b[0m\u001b[0m\n\u001b[0m\u001b[0;32m   1915\u001b[0m             \u001b[1;32mif\u001b[0m \u001b[0misinstance\u001b[0m\u001b[1;33m(\u001b[0m\u001b[0mfeval_ret\u001b[0m\u001b[1;33m,\u001b[0m \u001b[0mlist\u001b[0m\u001b[1;33m)\u001b[0m\u001b[1;33m:\u001b[0m\u001b[1;33m\u001b[0m\u001b[0m\n\u001b[0;32m   1916\u001b[0m                 \u001b[1;32mfor\u001b[0m \u001b[0meval_name\u001b[0m\u001b[1;33m,\u001b[0m \u001b[0mval\u001b[0m\u001b[1;33m,\u001b[0m \u001b[0mis_higher_better\u001b[0m \u001b[1;32min\u001b[0m \u001b[0mfeval_ret\u001b[0m\u001b[1;33m:\u001b[0m\u001b[1;33m\u001b[0m\u001b[0m\n",
      "\u001b[1;32m~\\Desktop\\ali\\atec\\utils.py\u001b[0m in \u001b[0;36mmy_score2\u001b[1;34m(predictions, xtrain)\u001b[0m\n\u001b[0;32m     80\u001b[0m \u001b[1;32mdef\u001b[0m \u001b[0mmy_score2\u001b[0m\u001b[1;33m(\u001b[0m\u001b[0mpredictions\u001b[0m\u001b[1;33m,\u001b[0m \u001b[0mxtrain\u001b[0m\u001b[1;33m)\u001b[0m\u001b[1;33m:\u001b[0m \u001b[1;31m##Adapted from SKlearn, conservative (actual should be higher)\u001b[0m\u001b[1;33m\u001b[0m\u001b[0m\n\u001b[0;32m     81\u001b[0m     \u001b[0mground_truth\u001b[0m \u001b[1;33m=\u001b[0m \u001b[0mxtrain\u001b[0m\u001b[1;33m.\u001b[0m\u001b[0mget_label\u001b[0m\u001b[1;33m(\u001b[0m\u001b[1;33m)\u001b[0m\u001b[1;33m\u001b[0m\u001b[0m\n\u001b[1;32m---> 82\u001b[1;33m     \u001b[0mfpr\u001b[0m\u001b[1;33m,\u001b[0m\u001b[0mtpr\u001b[0m \u001b[1;33m=\u001b[0m \u001b[0mmy_roc\u001b[0m\u001b[1;33m(\u001b[0m\u001b[0mground_truth\u001b[0m\u001b[1;33m,\u001b[0m \u001b[0mpredictions\u001b[0m\u001b[1;33m)\u001b[0m\u001b[1;33m\u001b[0m\u001b[0m\n\u001b[0m\u001b[0;32m     83\u001b[0m     \u001b[0mtpr1\u001b[0m \u001b[1;33m=\u001b[0m \u001b[0mtpr\u001b[0m\u001b[1;33m[\u001b[0m\u001b[1;33m(\u001b[0m\u001b[0mfpr\u001b[0m\u001b[1;33m>=\u001b[0m\u001b[1;36m0.001\u001b[0m\u001b[1;33m)\u001b[0m\u001b[1;33m.\u001b[0m\u001b[0margmax\u001b[0m\u001b[1;33m(\u001b[0m\u001b[1;33m)\u001b[0m\u001b[1;33m-\u001b[0m\u001b[1;36m1\u001b[0m\u001b[1;33m]\u001b[0m\u001b[1;33m\u001b[0m\u001b[0m\n\u001b[0;32m     84\u001b[0m     \u001b[0mtpr2\u001b[0m \u001b[1;33m=\u001b[0m \u001b[0mtpr\u001b[0m\u001b[1;33m[\u001b[0m\u001b[1;33m(\u001b[0m\u001b[0mfpr\u001b[0m\u001b[1;33m>=\u001b[0m\u001b[1;36m0.005\u001b[0m\u001b[1;33m)\u001b[0m\u001b[1;33m.\u001b[0m\u001b[0margmax\u001b[0m\u001b[1;33m(\u001b[0m\u001b[1;33m)\u001b[0m\u001b[1;33m-\u001b[0m\u001b[1;36m1\u001b[0m\u001b[1;33m]\u001b[0m\u001b[1;33m\u001b[0m\u001b[0m\n",
      "\u001b[1;32m~\\Desktop\\ali\\atec\\utils.py\u001b[0m in \u001b[0;36mmy_roc\u001b[1;34m(y_true, y_prob)\u001b[0m\n\u001b[0;32m     69\u001b[0m     \u001b[0mfps\u001b[0m\u001b[1;33m.\u001b[0m\u001b[0mappend\u001b[0m\u001b[1;33m(\u001b[0m\u001b[0mfp\u001b[0m\u001b[1;33m/\u001b[0m\u001b[0mnum_n\u001b[0m\u001b[1;33m)\u001b[0m\u001b[1;33m\u001b[0m\u001b[0m\n\u001b[0;32m     70\u001b[0m     \u001b[0mtps\u001b[0m\u001b[1;33m.\u001b[0m\u001b[0mappend\u001b[0m\u001b[1;33m(\u001b[0m\u001b[0mtp\u001b[0m\u001b[1;33m/\u001b[0m\u001b[0mnum_p\u001b[0m\u001b[1;33m)\u001b[0m\u001b[1;33m\u001b[0m\u001b[0m\n\u001b[1;32m---> 71\u001b[1;33m     \u001b[1;32mreturn\u001b[0m \u001b[0mnp\u001b[0m\u001b[1;33m.\u001b[0m\u001b[0marray\u001b[0m\u001b[1;33m(\u001b[0m\u001b[0mfps\u001b[0m\u001b[1;33m)\u001b[0m\u001b[1;33m,\u001b[0m \u001b[0mnp\u001b[0m\u001b[1;33m.\u001b[0m\u001b[0marray\u001b[0m\u001b[1;33m(\u001b[0m\u001b[0mtps\u001b[0m\u001b[1;33m)\u001b[0m\u001b[1;33m\u001b[0m\u001b[0m\n\u001b[0m\u001b[0;32m     72\u001b[0m \u001b[1;33m\u001b[0m\u001b[0m\n\u001b[0;32m     73\u001b[0m \u001b[1;32mdef\u001b[0m \u001b[0mmy_score1\u001b[0m\u001b[1;33m(\u001b[0m\u001b[0mground_truth\u001b[0m\u001b[1;33m,\u001b[0m \u001b[0mpredictions\u001b[0m\u001b[1;33m)\u001b[0m\u001b[1;33m:\u001b[0m \u001b[1;31m##Adapted from SKlearn, conservative (actual should be higher)\u001b[0m\u001b[1;33m\u001b[0m\u001b[0m\n",
      "\u001b[1;31mKeyboardInterrupt\u001b[0m: "
     ]
    }
   ],
   "source": [
    "x_score = []\n",
    "final_cv_train = np.zeros(len(y))\n",
    "final_cv_pred = np.zeros(len(test_id))\n",
    "\n",
    "for s in range(num_round):\n",
    "    cv_train = np.zeros(len(train_id))\n",
    "    cv_pred = np.zeros(len(test_id))\n",
    "\n",
    "    params['seed'] = s\n",
    "\n",
    "    if cv_only:\n",
    "        kf = kfold.split(X, y)\n",
    "\n",
    "        best_trees = []\n",
    "        fold_scores = []\n",
    "\n",
    "        for i, (train_idx, val_idx) in enumerate(kf):\n",
    "            X_train, X_validate, label_train, label_validate = \\\n",
    "                X[train_idx,:], X[val_idx,:], y[train_idx], y[val_idx]\n",
    "            dtrain = lgbm.Dataset(X_train, label_train)\n",
    "            dvalid = lgbm.Dataset(X_validate, label_validate, reference=dtrain)\n",
    "            bst = lgbm.train(params, dtrain, num_boost_round, valid_sets=dvalid, feval=my_score2, verbose_eval=100,\n",
    "                            early_stopping_rounds=100)\n",
    "            best_trees.append(bst.best_iteration)\n",
    "            cv_pred += bst.predict(X_test, num_iteration=bst.best_iteration)\n",
    "            cv_train[val_idx] += bst.predict(X_validate)\n",
    "\n",
    "            score = my_score1(label_validate, cv_train[val_idx])\n",
    "            # print(score)\n",
    "            fold_scores.append(score)\n",
    "\n",
    "        cv_pred /= NFOLDS\n",
    "        final_cv_train += cv_train\n",
    "        final_cv_pred += cv_pred\n",
    "\n",
    "        print(\"cv score:\", my_score1(y, cv_train))\n",
    "        print(\"Average score so far:\", my_score1(y, final_cv_train / (s + 1.)), \"Round:\", s+1)\n",
    "        print(fold_scores)\n",
    "        print(\"Best trees:\", best_trees, \"There average:\", np.mean(best_trees))\n",
    "\n",
    "        x_score.append(my_score1(y, cv_train))\n",
    "\n",
    "print(x_score)"
   ]
  },
  {
   "cell_type": "code",
   "execution_count": 11,
   "metadata": {
    "hidden": true
   },
   "outputs": [],
   "source": [
    "pd.DataFrame({'id': test_id, 'score': final_cv_pred / float(num_round)}).to_csv('submission/lgbm_test_0001.csv', index=False)\n",
    "# pd.DataFrame({'id': train_id, 'score': final_cv_train / float(num_round)}).to_csv('submission/lgbm_train_0001.csv', index=False)"
   ]
  },
  {
   "cell_type": "markdown",
   "metadata": {
    "heading_collapsed": true
   },
   "source": [
    "### Cross validation with partial data"
   ]
  },
  {
   "cell_type": "code",
   "execution_count": 2,
   "metadata": {
    "hidden": true
   },
   "outputs": [],
   "source": [
    "train = pd.read_csv(\"atec_anti_fraud_train.csv\",parse_dates=['date'], dtype = dtype)\n",
    "test = pd.read_csv(\"atec_anti_fraud_test_a.csv\",parse_dates=['date'], dtype = dtype)\n",
    "\n",
    "train = process_dates(train, 'date')\n",
    "test = process_dates(test, 'date')"
   ]
  },
  {
   "cell_type": "code",
   "execution_count": 3,
   "metadata": {
    "hidden": true
   },
   "outputs": [],
   "source": [
    "train = train[train['label']!=-1]\n",
    "weights = load_obj('weights')\n",
    "weights = weights.drop('label', axis=1)\n",
    "train = train.merge(weights, how='inner', on='id')\n",
    "weights = train.weight"
   ]
  },
  {
   "cell_type": "code",
   "execution_count": 4,
   "metadata": {
    "hidden": true
   },
   "outputs": [],
   "source": [
    "train = train.reset_index(drop=True).iloc[weights.values.argsort()[weights.shape[0]//2:],:]"
   ]
  },
  {
   "cell_type": "code",
   "execution_count": 5,
   "metadata": {
    "hidden": true
   },
   "outputs": [],
   "source": [
    "weights = train.weight"
   ]
  },
  {
   "cell_type": "code",
   "execution_count": 6,
   "metadata": {
    "hidden": true
   },
   "outputs": [],
   "source": [
    "NFOLDS = 5\n",
    "kfold = SKF(n_splits=NFOLDS)#, shuffle=False, random_state=666)"
   ]
  },
  {
   "cell_type": "code",
   "execution_count": 7,
   "metadata": {
    "hidden": true
   },
   "outputs": [],
   "source": [
    "train_id = train['id']\n",
    "test_id = test['id']\n",
    "y = train['label'].values\n",
    "X = train.drop(['id','date','label','weight'], axis=1).values\n",
    "X_test = test.drop(['id','date'], axis=1).values"
   ]
  },
  {
   "cell_type": "code",
   "execution_count": 8,
   "metadata": {
    "hidden": true
   },
   "outputs": [
    {
     "name": "stdout",
     "output_type": "stream",
     "text": [
      "(495003, 301) (495003,) (491668, 301)\n"
     ]
    }
   ],
   "source": [
    "print(X.shape, y.shape, X_test.shape)"
   ]
  },
  {
   "cell_type": "code",
   "execution_count": 11,
   "metadata": {
    "hidden": true
   },
   "outputs": [],
   "source": [
    "cv_only = True\n",
    "num_round = 1\n",
    "\n",
    "learning_rate = 0.1\n",
    "num_leaves = 15\n",
    "min_data_in_leaf = 2000\n",
    "feature_fraction = 0.6\n",
    "num_boost_round = 10000\n",
    "params = {\"objective\": \"binary\",\n",
    "          \"boosting_type\": \"gbdt\",\n",
    "          \"learning_rate\": learning_rate,\n",
    "          \"num_leaves\": num_leaves,\n",
    "           \"max_bin\": 256,\n",
    "          \"feature_fraction\": feature_fraction,\n",
    "          \"verbosity\": 0,\n",
    "          \"drop_rate\": 0.1,\n",
    "          \"is_unbalance\": False,\n",
    "          \"max_drop\": 50,\n",
    "          \"min_child_samples\": 10,\n",
    "          \"min_child_weight\": 150,\n",
    "          \"min_split_gain\": 0,\n",
    "          \"subsample\": 0.9\n",
    "          }"
   ]
  },
  {
   "cell_type": "code",
   "execution_count": 12,
   "metadata": {
    "hidden": true
   },
   "outputs": [
    {
     "name": "stdout",
     "output_type": "stream",
     "text": [
      "Training until validation scores don't improve for 100 rounds.\n",
      "[100]\tvalid_0's binary_logloss: 0.030281\tvalid_0's score: 0.599034\n",
      "[200]\tvalid_0's binary_logloss: 0.0283135\tvalid_0's score: 0.624082\n",
      "[300]\tvalid_0's binary_logloss: 0.0277794\tvalid_0's score: 0.623632\n",
      "[400]\tvalid_0's binary_logloss: 0.0273515\tvalid_0's score: 0.639279\n",
      "[500]\tvalid_0's binary_logloss: 0.0272308\tvalid_0's score: 0.639601\n",
      "[600]\tvalid_0's binary_logloss: 0.0271221\tvalid_0's score: 0.640567\n",
      "Early stopping, best iteration is:\n",
      "[521]\tvalid_0's binary_logloss: 0.0272182\tvalid_0's score: 0.644108\n",
      "Training until validation scores don't improve for 100 rounds.\n",
      "[100]\tvalid_0's binary_logloss: 0.0334041\tvalid_0's score: 0.541146\n",
      "[200]\tvalid_0's binary_logloss: 0.0308192\tvalid_0's score: 0.569414\n",
      "[300]\tvalid_0's binary_logloss: 0.0298392\tvalid_0's score: 0.586542\n",
      "[400]\tvalid_0's binary_logloss: 0.0292516\tvalid_0's score: 0.592981\n",
      "[500]\tvalid_0's binary_logloss: 0.0289462\tvalid_0's score: 0.607147\n",
      "Early stopping, best iteration is:\n",
      "[498]\tvalid_0's binary_logloss: 0.0289707\tvalid_0's score: 0.608371\n",
      "Training until validation scores don't improve for 100 rounds.\n",
      "[100]\tvalid_0's binary_logloss: 0.0350145\tvalid_0's score: 0.528719\n",
      "[200]\tvalid_0's binary_logloss: 0.0332474\tvalid_0's score: 0.531552\n",
      "Early stopping, best iteration is:\n",
      "[134]\tvalid_0's binary_logloss: 0.034148\tvalid_0's score: 0.539794\n",
      "Training until validation scores don't improve for 100 rounds.\n",
      "[100]\tvalid_0's binary_logloss: 0.0430328\tvalid_0's score: 0.368191\n",
      "[200]\tvalid_0's binary_logloss: 0.0415812\tvalid_0's score: 0.38094\n",
      "[300]\tvalid_0's binary_logloss: 0.0408548\tvalid_0's score: 0.389182\n",
      "[400]\tvalid_0's binary_logloss: 0.0404671\tvalid_0's score: 0.398648\n",
      "[500]\tvalid_0's binary_logloss: 0.0399953\tvalid_0's score: 0.404507\n",
      "[600]\tvalid_0's binary_logloss: 0.0396042\tvalid_0's score: 0.411333\n",
      "[700]\tvalid_0's binary_logloss: 0.0394515\tvalid_0's score: 0.414037\n",
      "[800]\tvalid_0's binary_logloss: 0.0393371\tvalid_0's score: 0.418094\n",
      "[900]\tvalid_0's binary_logloss: 0.039229\tvalid_0's score: 0.422151\n",
      "[1000]\tvalid_0's binary_logloss: 0.0391716\tvalid_0's score: 0.42067\n",
      "[1100]\tvalid_0's binary_logloss: 0.0391302\tvalid_0's score: 0.425177\n",
      "Early stopping, best iteration is:\n",
      "[1081]\tvalid_0's binary_logloss: 0.0391294\tvalid_0's score: 0.426207\n",
      "Training until validation scores don't improve for 100 rounds.\n",
      "[100]\tvalid_0's binary_logloss: 0.0897551\tvalid_0's score: 0.228139\n",
      "Early stopping, best iteration is:\n",
      "[61]\tvalid_0's binary_logloss: 0.0880582\tvalid_0's score: 0.216999\n",
      "cv score: 0.352994204764971\n",
      "Average score so far: 0.352994204764971 Round: 1\n",
      "[0.6441081777205409, 0.6083708950418545, 0.5397939471989697, 0.4262073406310367, 0.21699935608499676]\n",
      "Best trees: [521, 498, 134, 1081, 61] There average: 459.0\n",
      "[0.352994204764971]\n"
     ]
    }
   ],
   "source": [
    "x_score = []\n",
    "final_cv_train = np.zeros(len(y))\n",
    "final_cv_pred = np.zeros(len(test_id))\n",
    "\n",
    "for s in range(num_round):\n",
    "    cv_train = np.zeros(len(train_id))\n",
    "    cv_pred = np.zeros(len(test_id))\n",
    "\n",
    "    params['seed'] = s\n",
    "\n",
    "    if cv_only:\n",
    "        kf = kfold.split(X, y)\n",
    "\n",
    "        best_trees = []\n",
    "        fold_scores = []\n",
    "\n",
    "        for i, (train_idx, val_idx) in enumerate(kf):\n",
    "            X_train, X_validate, label_train, label_validate = \\\n",
    "                X[train_idx,:], X[val_idx,:], y[train_idx], y[val_idx]\n",
    "            train_weights = weights.values[train_idx]\n",
    "            valid_weights = weights.values[val_idx]\n",
    "            dtrain = lgbm.Dataset(X_train, label_train, weight=train_weights)\n",
    "            dvalid = lgbm.Dataset(X_validate, label_validate, reference=dtrain, weight=valid_weights)\n",
    "            bst = lgbm.train(params, dtrain, num_boost_round, valid_sets=dvalid, feval=my_score2, verbose_eval=100,\n",
    "                            early_stopping_rounds=100)\n",
    "            best_trees.append(bst.best_iteration)\n",
    "            cv_pred += bst.predict(X_test, num_iteration=bst.best_iteration)\n",
    "            cv_train[val_idx] += bst.predict(X_validate)\n",
    "\n",
    "            score = my_score1(label_validate, cv_train[val_idx])\n",
    "            # print(score)\n",
    "            fold_scores.append(score)\n",
    "\n",
    "        cv_pred /= NFOLDS\n",
    "        final_cv_train += cv_train\n",
    "        final_cv_pred += cv_pred\n",
    "\n",
    "        print(\"cv score:\", my_score1(y, cv_train))\n",
    "        print(\"Average score so far:\", my_score1(y, final_cv_train / (s + 1.)), \"Round:\", s+1)\n",
    "        print(fold_scores)\n",
    "        print(\"Best trees:\", best_trees, \"There average:\", np.mean(best_trees))\n",
    "\n",
    "        x_score.append(my_score1(y, cv_train))\n",
    "\n",
    "print(x_score)"
   ]
  },
  {
   "cell_type": "code",
   "execution_count": 13,
   "metadata": {
    "hidden": true
   },
   "outputs": [],
   "source": [
    "pd.DataFrame({'id': test_id, 'score': final_cv_pred / float(num_round)}).to_csv('submission/lgbm_test_0002.csv', index=False)\n",
    "# pd.DataFrame({'id': train_id, 'score': final_cv_train / float(num_round)}).to_csv('submission/lgbm_train_0001.csv', index=False)"
   ]
  },
  {
   "cell_type": "code",
   "execution_count": 19,
   "metadata": {
    "hidden": true
   },
   "outputs": [],
   "source": [
    "?lgbm.Dataset"
   ]
  },
  {
   "cell_type": "code",
   "execution_count": null,
   "metadata": {
    "hidden": true
   },
   "outputs": [],
   "source": []
  }
 ],
 "metadata": {
  "kernelspec": {
   "display_name": "Python 3",
   "language": "python",
   "name": "python3"
  },
  "language_info": {
   "codemirror_mode": {
    "name": "ipython",
    "version": 3
   },
   "file_extension": ".py",
   "mimetype": "text/x-python",
   "name": "python",
   "nbconvert_exporter": "python",
   "pygments_lexer": "ipython3",
   "version": "3.6.5"
  }
 },
 "nbformat": 4,
 "nbformat_minor": 2
}
