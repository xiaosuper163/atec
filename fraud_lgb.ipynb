{
 "cells": [
  {
   "cell_type": "code",
   "execution_count": 1,
   "metadata": {},
   "outputs": [],
   "source": [
    "import lightgbm as lgbm\n",
    "import pandas as pd\n",
    "import numpy as np\n",
    "from pandas.api.types import is_numeric_dtype\n",
    "# import xgboost as xgb\n",
    "import matplotlib\n",
    "import matplotlib.pyplot as plt\n",
    "from sklearn.decomposition import PCA\n",
    "# import missingno as msno\n",
    "import pickle\n",
    "from sklearn import preprocessing\n",
    "from sklearn.metrics import roc_curve\n",
    "from scipy import stats\n",
    "from scipy.stats import zscore\n",
    "from sklearn.ensemble import RandomForestClassifier\n",
    "from sklearn.model_selection import StratifiedKFold as SKF\n",
    "from sklearn import metrics\n",
    "# from fancyimpute import *\n",
    "\n",
    "from utils import *\n",
    "%matplotlib inline\n",
    "\n",
    "dtype = load_obj('dict_dtype')\n",
    "my_dict = load_obj('my_dict')"
   ]
  },
  {
   "cell_type": "code",
   "execution_count": 2,
   "metadata": {},
   "outputs": [],
   "source": [
    "train = pd.read_csv(\"atec_anti_fraud_train.csv\",parse_dates=['date'], dtype = dtype)\n",
    "test = pd.read_csv(\"atec_anti_fraud_test_a.csv\",parse_dates=['date'], dtype = dtype)"
   ]
  },
  {
   "cell_type": "code",
   "execution_count": 3,
   "metadata": {},
   "outputs": [],
   "source": [
    "NFOLDS = 5\n",
    "kfold = StratifiedKFold(n_splits=NFOLDS, shuffle=True, random_state=666)"
   ]
  },
  {
   "cell_type": "code",
   "execution_count": 4,
   "metadata": {},
   "outputs": [],
   "source": [
    "train = train[train['label']!=-1]\n",
    "train.sort_values('date', inplace=True)\n",
    "#train_label = data['label']\n",
    "train_id = train['id']\n",
    "test_id = test['id']\n",
    "y = train['label'].values\n",
    "X = train.drop(['id','date','label'], axis=1).values\n",
    "X_test = test.drop(['id','date'], axis=1).values"
   ]
  },
  {
   "cell_type": "code",
   "execution_count": 5,
   "metadata": {},
   "outputs": [
    {
     "name": "stdout",
     "output_type": "stream",
     "text": [
      "(990006, 297) (990006,) (491668, 297)\n"
     ]
    }
   ],
   "source": [
    "print(X.shape, y.shape, X_test.shape)"
   ]
  },
  {
   "cell_type": "code",
   "execution_count": 6,
   "metadata": {},
   "outputs": [],
   "source": [
    "cv_only = True\n",
    "num_round = 2"
   ]
  },
  {
   "cell_type": "code",
   "execution_count": 7,
   "metadata": {},
   "outputs": [],
   "source": [
    "learning_rate = 0.1\n",
    "num_leaves = 15\n",
    "min_data_in_leaf = 2000\n",
    "feature_fraction = 0.6\n",
    "num_boost_round = 10000\n",
    "params = {\"objective\": \"binary\",\n",
    "          \"boosting_type\": \"gbdt\",\n",
    "          \"learning_rate\": learning_rate,\n",
    "          \"num_leaves\": num_leaves,\n",
    "           \"max_bin\": 256,\n",
    "          \"feature_fraction\": feature_fraction,\n",
    "          \"verbosity\": 0,\n",
    "          \"drop_rate\": 0.1,\n",
    "          \"is_unbalance\": False,\n",
    "          \"max_drop\": 50,\n",
    "          \"min_child_samples\": 10,\n",
    "          \"min_child_weight\": 150,\n",
    "          \"min_split_gain\": 0,\n",
    "          \"subsample\": 0.9\n",
    "          }"
   ]
  },
  {
   "cell_type": "code",
   "execution_count": 8,
   "metadata": {},
   "outputs": [
    {
     "name": "stdout",
     "output_type": "stream",
     "text": [
      "Training until validation scores don't improve for 100 rounds.\n",
      "[100]\tvalid_0's binary_logloss: 0.0244259\tvalid_0's score: 0.558062\n",
      "[200]\tvalid_0's binary_logloss: 0.0227919\tvalid_0's score: 0.590474\n",
      "[300]\tvalid_0's binary_logloss: 0.0221914\tvalid_0's score: 0.609485\n",
      "[400]\tvalid_0's binary_logloss: 0.0218556\tvalid_0's score: 0.614763\n",
      "[500]\tvalid_0's binary_logloss: 0.0215348\tvalid_0's score: 0.61934\n",
      "[600]\tvalid_0's binary_logloss: 0.0213655\tvalid_0's score: 0.622722\n",
      "[700]\tvalid_0's binary_logloss: 0.0212159\tvalid_0's score: 0.628247\n",
      "[800]\tvalid_0's binary_logloss: 0.0210865\tvalid_0's score: 0.633691\n",
      "[900]\tvalid_0's binary_logloss: 0.0209925\tvalid_0's score: 0.637113\n",
      "[1000]\tvalid_0's binary_logloss: 0.0208943\tvalid_0's score: 0.636907\n",
      "Early stopping, best iteration is:\n",
      "[976]\tvalid_0's binary_logloss: 0.0209257\tvalid_0's score: 0.638722\n",
      "Training until validation scores don't improve for 100 rounds.\n",
      "[100]\tvalid_0's binary_logloss: 0.0245212\tvalid_0's score: 0.555794\n",
      "[200]\tvalid_0's binary_logloss: 0.0230547\tvalid_0's score: 0.581567\n",
      "[300]\tvalid_0's binary_logloss: 0.0224351\tvalid_0's score: 0.597485\n",
      "[400]\tvalid_0's binary_logloss: 0.0220897\tvalid_0's score: 0.600866\n",
      "[500]\tvalid_0's binary_logloss: 0.0218259\tvalid_0's score: 0.608742\n",
      "[600]\tvalid_0's binary_logloss: 0.0216288\tvalid_0's score: 0.611629\n",
      "[700]\tvalid_0's binary_logloss: 0.0214434\tvalid_0's score: 0.615835\n",
      "[800]\tvalid_0's binary_logloss: 0.0213075\tvalid_0's score: 0.61868\n",
      "[900]\tvalid_0's binary_logloss: 0.0211833\tvalid_0's score: 0.617856\n",
      "[1000]\tvalid_0's binary_logloss: 0.0210881\tvalid_0's score: 0.622392\n",
      "[1100]\tvalid_0's binary_logloss: 0.0210219\tvalid_0's score: 0.623794\n",
      "[1200]\tvalid_0's binary_logloss: 0.0209357\tvalid_0's score: 0.625155\n",
      "Early stopping, best iteration is:\n",
      "[1180]\tvalid_0's binary_logloss: 0.020948\tvalid_0's score: 0.627381\n",
      "Training until validation scores don't improve for 100 rounds.\n",
      "[100]\tvalid_0's binary_logloss: 0.02518\tvalid_0's score: 0.530776\n",
      "[200]\tvalid_0's binary_logloss: 0.0236615\tvalid_0's score: 0.555899\n",
      "[300]\tvalid_0's binary_logloss: 0.022971\tvalid_0's score: 0.57137\n",
      "[400]\tvalid_0's binary_logloss: 0.0226557\tvalid_0's score: 0.578383\n",
      "[500]\tvalid_0's binary_logloss: 0.0224033\tvalid_0's score: 0.584983\n",
      "[600]\tvalid_0's binary_logloss: 0.0222219\tvalid_0's score: 0.588861\n",
      "[700]\tvalid_0's binary_logloss: 0.0220562\tvalid_0's score: 0.593729\n",
      "[800]\tvalid_0's binary_logloss: 0.0219301\tvalid_0's score: 0.595833\n",
      "[900]\tvalid_0's binary_logloss: 0.0217994\tvalid_0's score: 0.601485\n",
      "[1000]\tvalid_0's binary_logloss: 0.0217248\tvalid_0's score: 0.602805\n",
      "[1100]\tvalid_0's binary_logloss: 0.0216426\tvalid_0's score: 0.605652\n",
      "[1200]\tvalid_0's binary_logloss: 0.0215679\tvalid_0's score: 0.60821\n",
      "[1300]\tvalid_0's binary_logloss: 0.0215054\tvalid_0's score: 0.60854\n",
      "[1400]\tvalid_0's binary_logloss: 0.0214655\tvalid_0's score: 0.611716\n",
      "[1500]\tvalid_0's binary_logloss: 0.0214394\tvalid_0's score: 0.612624\n",
      "[1600]\tvalid_0's binary_logloss: 0.0213994\tvalid_0's score: 0.615264\n",
      "[1700]\tvalid_0's binary_logloss: 0.0213716\tvalid_0's score: 0.616749\n",
      "Early stopping, best iteration is:\n",
      "[1617]\tvalid_0's binary_logloss: 0.021399\tvalid_0's score: 0.617203\n",
      "Training until validation scores don't improve for 100 rounds.\n",
      "[100]\tvalid_0's binary_logloss: 0.0242016\tvalid_0's score: 0.545668\n",
      "[200]\tvalid_0's binary_logloss: 0.0227324\tvalid_0's score: 0.57929\n",
      "[300]\tvalid_0's binary_logloss: 0.0221383\tvalid_0's score: 0.590017\n",
      "[400]\tvalid_0's binary_logloss: 0.0218375\tvalid_0's score: 0.595875\n",
      "[500]\tvalid_0's binary_logloss: 0.0216354\tvalid_0's score: 0.605404\n",
      "[600]\tvalid_0's binary_logloss: 0.0214119\tvalid_0's score: 0.609076\n",
      "[700]\tvalid_0's binary_logloss: 0.0212592\tvalid_0's score: 0.614563\n",
      "[800]\tvalid_0's binary_logloss: 0.0211198\tvalid_0's score: 0.614851\n",
      "Early stopping, best iteration is:\n",
      "[781]\tvalid_0's binary_logloss: 0.0211425\tvalid_0's score: 0.617162\n",
      "Training until validation scores don't improve for 100 rounds.\n",
      "[100]\tvalid_0's binary_logloss: 0.0246853\tvalid_0's score: 0.54967\n",
      "[200]\tvalid_0's binary_logloss: 0.0231907\tvalid_0's score: 0.578342\n",
      "[300]\tvalid_0's binary_logloss: 0.0226438\tvalid_0's score: 0.592203\n",
      "[400]\tvalid_0's binary_logloss: 0.0222722\tvalid_0's score: 0.600949\n",
      "[500]\tvalid_0's binary_logloss: 0.0219927\tvalid_0's score: 0.605157\n",
      "[600]\tvalid_0's binary_logloss: 0.0217725\tvalid_0's score: 0.609571\n",
      "[700]\tvalid_0's binary_logloss: 0.0215974\tvalid_0's score: 0.614893\n",
      "[800]\tvalid_0's binary_logloss: 0.0214777\tvalid_0's score: 0.616667\n",
      "[900]\tvalid_0's binary_logloss: 0.0214004\tvalid_0's score: 0.619926\n",
      "[1000]\tvalid_0's binary_logloss: 0.0213113\tvalid_0's score: 0.62566\n",
      "[1100]\tvalid_0's binary_logloss: 0.0212553\tvalid_0's score: 0.62764\n",
      "Early stopping, best iteration is:\n",
      "[1077]\tvalid_0's binary_logloss: 0.0212668\tvalid_0's score: 0.630322\n",
      "cv score: 0.6235357201781885\n",
      "Average score so far: 0.6235357201781885 Round: 1\n",
      "[0.638721649484536, 0.627381443298969, 0.6172029702970298, 0.6171617161716172, 0.6303217821782178]\n",
      "Best trees: [976, 1180, 1617, 781, 1077] There average: 1126.2\n",
      "Training until validation scores don't improve for 100 rounds.\n",
      "[100]\tvalid_0's binary_logloss: 0.0244636\tvalid_0's score: 0.56066\n",
      "[200]\tvalid_0's binary_logloss: 0.022848\tvalid_0's score: 0.587464\n",
      "[300]\tvalid_0's binary_logloss: 0.0222209\tvalid_0's score: 0.601691\n",
      "[400]\tvalid_0's binary_logloss: 0.0218175\tvalid_0's score: 0.607093\n",
      "[500]\tvalid_0's binary_logloss: 0.0216001\tvalid_0's score: 0.612866\n",
      "[600]\tvalid_0's binary_logloss: 0.0213905\tvalid_0's score: 0.621361\n"
     ]
    },
    {
     "ename": "KeyboardInterrupt",
     "evalue": "",
     "output_type": "error",
     "traceback": [
      "\u001b[1;31m---------------------------------------------------------------------------\u001b[0m",
      "\u001b[1;31mKeyboardInterrupt\u001b[0m                         Traceback (most recent call last)",
      "\u001b[1;32m<ipython-input-8-c9d1f0b36302>\u001b[0m in \u001b[0;36m<module>\u001b[1;34m()\u001b[0m\n\u001b[0;32m     20\u001b[0m             \u001b[0mdvalid\u001b[0m \u001b[1;33m=\u001b[0m \u001b[0mlgbm\u001b[0m\u001b[1;33m.\u001b[0m\u001b[0mDataset\u001b[0m\u001b[1;33m(\u001b[0m\u001b[0mX_validate\u001b[0m\u001b[1;33m,\u001b[0m \u001b[0mlabel_validate\u001b[0m\u001b[1;33m,\u001b[0m \u001b[0mreference\u001b[0m\u001b[1;33m=\u001b[0m\u001b[0mdtrain\u001b[0m\u001b[1;33m)\u001b[0m\u001b[1;33m\u001b[0m\u001b[0m\n\u001b[0;32m     21\u001b[0m             bst = lgbm.train(params, dtrain, num_boost_round, valid_sets=dvalid, feval=my_score2, verbose_eval=100,\n\u001b[1;32m---> 22\u001b[1;33m                             early_stopping_rounds=100)\n\u001b[0m\u001b[0;32m     23\u001b[0m             \u001b[0mbest_trees\u001b[0m\u001b[1;33m.\u001b[0m\u001b[0mappend\u001b[0m\u001b[1;33m(\u001b[0m\u001b[0mbst\u001b[0m\u001b[1;33m.\u001b[0m\u001b[0mbest_iteration\u001b[0m\u001b[1;33m)\u001b[0m\u001b[1;33m\u001b[0m\u001b[0m\n\u001b[0;32m     24\u001b[0m             \u001b[0mcv_pred\u001b[0m \u001b[1;33m+=\u001b[0m \u001b[0mbst\u001b[0m\u001b[1;33m.\u001b[0m\u001b[0mpredict\u001b[0m\u001b[1;33m(\u001b[0m\u001b[0mX_test\u001b[0m\u001b[1;33m,\u001b[0m \u001b[0mnum_iteration\u001b[0m\u001b[1;33m=\u001b[0m\u001b[0mbst\u001b[0m\u001b[1;33m.\u001b[0m\u001b[0mbest_iteration\u001b[0m\u001b[1;33m)\u001b[0m\u001b[1;33m\u001b[0m\u001b[0m\n",
      "\u001b[1;32mC:\\ProgramData\\Anaconda3\\lib\\site-packages\\lightgbm\\engine.py\u001b[0m in \u001b[0;36mtrain\u001b[1;34m(params, train_set, num_boost_round, valid_sets, valid_names, fobj, feval, init_model, feature_name, categorical_feature, early_stopping_rounds, evals_result, verbose_eval, learning_rates, keep_training_booster, callbacks)\u001b[0m\n\u001b[0;32m    206\u001b[0m             \u001b[1;32mif\u001b[0m \u001b[0mis_valid_contain_train\u001b[0m\u001b[1;33m:\u001b[0m\u001b[1;33m\u001b[0m\u001b[0m\n\u001b[0;32m    207\u001b[0m                 \u001b[0mevaluation_result_list\u001b[0m\u001b[1;33m.\u001b[0m\u001b[0mextend\u001b[0m\u001b[1;33m(\u001b[0m\u001b[0mbooster\u001b[0m\u001b[1;33m.\u001b[0m\u001b[0meval_train\u001b[0m\u001b[1;33m(\u001b[0m\u001b[0mfeval\u001b[0m\u001b[1;33m)\u001b[0m\u001b[1;33m)\u001b[0m\u001b[1;33m\u001b[0m\u001b[0m\n\u001b[1;32m--> 208\u001b[1;33m             \u001b[0mevaluation_result_list\u001b[0m\u001b[1;33m.\u001b[0m\u001b[0mextend\u001b[0m\u001b[1;33m(\u001b[0m\u001b[0mbooster\u001b[0m\u001b[1;33m.\u001b[0m\u001b[0meval_valid\u001b[0m\u001b[1;33m(\u001b[0m\u001b[0mfeval\u001b[0m\u001b[1;33m)\u001b[0m\u001b[1;33m)\u001b[0m\u001b[1;33m\u001b[0m\u001b[0m\n\u001b[0m\u001b[0;32m    209\u001b[0m         \u001b[1;32mtry\u001b[0m\u001b[1;33m:\u001b[0m\u001b[1;33m\u001b[0m\u001b[0m\n\u001b[0;32m    210\u001b[0m             \u001b[1;32mfor\u001b[0m \u001b[0mcb\u001b[0m \u001b[1;32min\u001b[0m \u001b[0mcallbacks_after_iter\u001b[0m\u001b[1;33m:\u001b[0m\u001b[1;33m\u001b[0m\u001b[0m\n",
      "\u001b[1;32mC:\\ProgramData\\Anaconda3\\lib\\site-packages\\lightgbm\\basic.py\u001b[0m in \u001b[0;36meval_valid\u001b[1;34m(self, feval)\u001b[0m\n\u001b[0;32m   1647\u001b[0m             \u001b[0mList\u001b[0m \u001b[1;32mwith\u001b[0m \u001b[0mevaluation\u001b[0m \u001b[0mresults\u001b[0m\u001b[1;33m.\u001b[0m\u001b[1;33m\u001b[0m\u001b[0m\n\u001b[0;32m   1648\u001b[0m         \"\"\"\n\u001b[1;32m-> 1649\u001b[1;33m         return [item for i in range_(1, self.__num_dataset)\n\u001b[0m\u001b[0;32m   1650\u001b[0m                 for item in self.__inner_eval(self.name_valid_sets[i - 1], i, feval)]\n\u001b[0;32m   1651\u001b[0m \u001b[1;33m\u001b[0m\u001b[0m\n",
      "\u001b[1;32mC:\\ProgramData\\Anaconda3\\lib\\site-packages\\lightgbm\\basic.py\u001b[0m in \u001b[0;36m<listcomp>\u001b[1;34m(.0)\u001b[0m\n\u001b[0;32m   1648\u001b[0m         \"\"\"\n\u001b[0;32m   1649\u001b[0m         return [item for i in range_(1, self.__num_dataset)\n\u001b[1;32m-> 1650\u001b[1;33m                 for item in self.__inner_eval(self.name_valid_sets[i - 1], i, feval)]\n\u001b[0m\u001b[0;32m   1651\u001b[0m \u001b[1;33m\u001b[0m\u001b[0m\n\u001b[0;32m   1652\u001b[0m     \u001b[1;32mdef\u001b[0m \u001b[0msave_model\u001b[0m\u001b[1;33m(\u001b[0m\u001b[0mself\u001b[0m\u001b[1;33m,\u001b[0m \u001b[0mfilename\u001b[0m\u001b[1;33m,\u001b[0m \u001b[0mnum_iteration\u001b[0m\u001b[1;33m=\u001b[0m\u001b[1;33m-\u001b[0m\u001b[1;36m1\u001b[0m\u001b[1;33m)\u001b[0m\u001b[1;33m:\u001b[0m\u001b[1;33m\u001b[0m\u001b[0m\n",
      "\u001b[1;32mC:\\ProgramData\\Anaconda3\\lib\\site-packages\\lightgbm\\basic.py\u001b[0m in \u001b[0;36m__inner_eval\u001b[1;34m(self, data_name, data_idx, feval)\u001b[0m\n\u001b[0;32m   1912\u001b[0m             \u001b[1;32melse\u001b[0m\u001b[1;33m:\u001b[0m\u001b[1;33m\u001b[0m\u001b[0m\n\u001b[0;32m   1913\u001b[0m                 \u001b[0mcur_data\u001b[0m \u001b[1;33m=\u001b[0m \u001b[0mself\u001b[0m\u001b[1;33m.\u001b[0m\u001b[0mvalid_sets\u001b[0m\u001b[1;33m[\u001b[0m\u001b[0mdata_idx\u001b[0m \u001b[1;33m-\u001b[0m \u001b[1;36m1\u001b[0m\u001b[1;33m]\u001b[0m\u001b[1;33m\u001b[0m\u001b[0m\n\u001b[1;32m-> 1914\u001b[1;33m             \u001b[0mfeval_ret\u001b[0m \u001b[1;33m=\u001b[0m \u001b[0mfeval\u001b[0m\u001b[1;33m(\u001b[0m\u001b[0mself\u001b[0m\u001b[1;33m.\u001b[0m\u001b[0m__inner_predict\u001b[0m\u001b[1;33m(\u001b[0m\u001b[0mdata_idx\u001b[0m\u001b[1;33m)\u001b[0m\u001b[1;33m,\u001b[0m \u001b[0mcur_data\u001b[0m\u001b[1;33m)\u001b[0m\u001b[1;33m\u001b[0m\u001b[0m\n\u001b[0m\u001b[0;32m   1915\u001b[0m             \u001b[1;32mif\u001b[0m \u001b[0misinstance\u001b[0m\u001b[1;33m(\u001b[0m\u001b[0mfeval_ret\u001b[0m\u001b[1;33m,\u001b[0m \u001b[0mlist\u001b[0m\u001b[1;33m)\u001b[0m\u001b[1;33m:\u001b[0m\u001b[1;33m\u001b[0m\u001b[0m\n\u001b[0;32m   1916\u001b[0m                 \u001b[1;32mfor\u001b[0m \u001b[0meval_name\u001b[0m\u001b[1;33m,\u001b[0m \u001b[0mval\u001b[0m\u001b[1;33m,\u001b[0m \u001b[0mis_higher_better\u001b[0m \u001b[1;32min\u001b[0m \u001b[0mfeval_ret\u001b[0m\u001b[1;33m:\u001b[0m\u001b[1;33m\u001b[0m\u001b[0m\n",
      "\u001b[1;32m~\\Desktop\\ali\\atec\\utils.py\u001b[0m in \u001b[0;36mmy_score2\u001b[1;34m(predictions, xtrain)\u001b[0m\n\u001b[0;32m     80\u001b[0m \u001b[1;32mdef\u001b[0m \u001b[0mmy_score2\u001b[0m\u001b[1;33m(\u001b[0m\u001b[0mpredictions\u001b[0m\u001b[1;33m,\u001b[0m \u001b[0mxtrain\u001b[0m\u001b[1;33m)\u001b[0m\u001b[1;33m:\u001b[0m \u001b[1;31m##Adapted from SKlearn, conservative (actual should be higher)\u001b[0m\u001b[1;33m\u001b[0m\u001b[0m\n\u001b[0;32m     81\u001b[0m     \u001b[0mground_truth\u001b[0m \u001b[1;33m=\u001b[0m \u001b[0mxtrain\u001b[0m\u001b[1;33m.\u001b[0m\u001b[0mget_label\u001b[0m\u001b[1;33m(\u001b[0m\u001b[1;33m)\u001b[0m\u001b[1;33m\u001b[0m\u001b[0m\n\u001b[1;32m---> 82\u001b[1;33m     \u001b[0mfpr\u001b[0m\u001b[1;33m,\u001b[0m\u001b[0mtpr\u001b[0m \u001b[1;33m=\u001b[0m \u001b[0mmy_roc\u001b[0m\u001b[1;33m(\u001b[0m\u001b[0mground_truth\u001b[0m\u001b[1;33m,\u001b[0m \u001b[0mpredictions\u001b[0m\u001b[1;33m)\u001b[0m\u001b[1;33m\u001b[0m\u001b[0m\n\u001b[0m\u001b[0;32m     83\u001b[0m     \u001b[0mtpr1\u001b[0m \u001b[1;33m=\u001b[0m \u001b[0mtpr\u001b[0m\u001b[1;33m[\u001b[0m\u001b[1;33m(\u001b[0m\u001b[0mfpr\u001b[0m\u001b[1;33m>=\u001b[0m\u001b[1;36m0.001\u001b[0m\u001b[1;33m)\u001b[0m\u001b[1;33m.\u001b[0m\u001b[0margmax\u001b[0m\u001b[1;33m(\u001b[0m\u001b[1;33m)\u001b[0m\u001b[1;33m-\u001b[0m\u001b[1;36m1\u001b[0m\u001b[1;33m]\u001b[0m\u001b[1;33m\u001b[0m\u001b[0m\n\u001b[0;32m     84\u001b[0m     \u001b[0mtpr2\u001b[0m \u001b[1;33m=\u001b[0m \u001b[0mtpr\u001b[0m\u001b[1;33m[\u001b[0m\u001b[1;33m(\u001b[0m\u001b[0mfpr\u001b[0m\u001b[1;33m>=\u001b[0m\u001b[1;36m0.005\u001b[0m\u001b[1;33m)\u001b[0m\u001b[1;33m.\u001b[0m\u001b[0margmax\u001b[0m\u001b[1;33m(\u001b[0m\u001b[1;33m)\u001b[0m\u001b[1;33m-\u001b[0m\u001b[1;36m1\u001b[0m\u001b[1;33m]\u001b[0m\u001b[1;33m\u001b[0m\u001b[0m\n",
      "\u001b[1;32m~\\Desktop\\ali\\atec\\utils.py\u001b[0m in \u001b[0;36mmy_roc\u001b[1;34m(y_true, y_prob)\u001b[0m\n\u001b[0;32m     69\u001b[0m     \u001b[0mfps\u001b[0m\u001b[1;33m.\u001b[0m\u001b[0mappend\u001b[0m\u001b[1;33m(\u001b[0m\u001b[0mfp\u001b[0m\u001b[1;33m/\u001b[0m\u001b[0mnum_n\u001b[0m\u001b[1;33m)\u001b[0m\u001b[1;33m\u001b[0m\u001b[0m\n\u001b[0;32m     70\u001b[0m     \u001b[0mtps\u001b[0m\u001b[1;33m.\u001b[0m\u001b[0mappend\u001b[0m\u001b[1;33m(\u001b[0m\u001b[0mtp\u001b[0m\u001b[1;33m/\u001b[0m\u001b[0mnum_p\u001b[0m\u001b[1;33m)\u001b[0m\u001b[1;33m\u001b[0m\u001b[0m\n\u001b[1;32m---> 71\u001b[1;33m     \u001b[1;32mreturn\u001b[0m \u001b[0mnp\u001b[0m\u001b[1;33m.\u001b[0m\u001b[0marray\u001b[0m\u001b[1;33m(\u001b[0m\u001b[0mfps\u001b[0m\u001b[1;33m)\u001b[0m\u001b[1;33m,\u001b[0m \u001b[0mnp\u001b[0m\u001b[1;33m.\u001b[0m\u001b[0marray\u001b[0m\u001b[1;33m(\u001b[0m\u001b[0mtps\u001b[0m\u001b[1;33m)\u001b[0m\u001b[1;33m\u001b[0m\u001b[0m\n\u001b[0m\u001b[0;32m     72\u001b[0m \u001b[1;33m\u001b[0m\u001b[0m\n\u001b[0;32m     73\u001b[0m \u001b[1;32mdef\u001b[0m \u001b[0mmy_score1\u001b[0m\u001b[1;33m(\u001b[0m\u001b[0mground_truth\u001b[0m\u001b[1;33m,\u001b[0m \u001b[0mpredictions\u001b[0m\u001b[1;33m)\u001b[0m\u001b[1;33m:\u001b[0m \u001b[1;31m##Adapted from SKlearn, conservative (actual should be higher)\u001b[0m\u001b[1;33m\u001b[0m\u001b[0m\n",
      "\u001b[1;31mKeyboardInterrupt\u001b[0m: "
     ]
    }
   ],
   "source": [
    "x_score = []\n",
    "final_cv_train = np.zeros(len(y))\n",
    "final_cv_pred = np.zeros(len(test_id))\n",
    "\n",
    "for s in range(num_round):\n",
    "    cv_train = np.zeros(len(train_id))\n",
    "    cv_pred = np.zeros(len(test_id))\n",
    "\n",
    "    params['seed'] = s\n",
    "\n",
    "    if cv_only:\n",
    "        kf = kfold.split(X, y)\n",
    "\n",
    "        best_trees = []\n",
    "        fold_scores = []\n",
    "\n",
    "        for i, (train_idx, val_idx) in enumerate(kf):\n",
    "            X_train, X_validate, label_train, label_validate = \\\n",
    "                X[train_idx,:], X[val_idx,:], y[train_idx], y[val_idx]\n",
    "            dtrain = lgbm.Dataset(X_train, label_train)\n",
    "            dvalid = lgbm.Dataset(X_validate, label_validate, reference=dtrain)\n",
    "            bst = lgbm.train(params, dtrain, num_boost_round, valid_sets=dvalid, feval=my_score2, verbose_eval=100,\n",
    "                            early_stopping_rounds=100)\n",
    "            best_trees.append(bst.best_iteration)\n",
    "            cv_pred += bst.predict(X_test, num_iteration=bst.best_iteration)\n",
    "            cv_train[val_idx] += bst.predict(X_validate)\n",
    "\n",
    "            score = my_score1(label_validate, cv_train[val_idx])\n",
    "            # print(score)\n",
    "            fold_scores.append(score)\n",
    "\n",
    "        cv_pred /= NFOLDS\n",
    "        final_cv_train += cv_train\n",
    "        final_cv_pred += cv_pred\n",
    "\n",
    "        print(\"cv score:\", my_score1(y, cv_train))\n",
    "        print(\"Average score so far:\", my_score1(y, final_cv_train / (s + 1.)), \"Round:\", s+1)\n",
    "        print(fold_scores)\n",
    "        print(\"Best trees:\", best_trees, \"There average:\", np.mean(best_trees))\n",
    "\n",
    "        x_score.append(my_score1(y, cv_train))\n",
    "\n",
    "print(x_score)"
   ]
  },
  {
   "cell_type": "code",
   "execution_count": 11,
   "metadata": {},
   "outputs": [],
   "source": [
    "pd.DataFrame({'id': test_id, 'score': final_cv_pred / float(num_round)}).to_csv('submission/lgbm_test_0001.csv', index=False)\n",
    "# pd.DataFrame({'id': train_id, 'score': final_cv_train / float(num_round)}).to_csv('submission/lgbm_train_0001.csv', index=False)"
   ]
  },
  {
   "cell_type": "code",
   "execution_count": null,
   "metadata": {},
   "outputs": [],
   "source": []
  }
 ],
 "metadata": {
  "kernelspec": {
   "display_name": "Python 3",
   "language": "python",
   "name": "python3"
  },
  "language_info": {
   "codemirror_mode": {
    "name": "ipython",
    "version": 3
   },
   "file_extension": ".py",
   "mimetype": "text/x-python",
   "name": "python",
   "nbconvert_exporter": "python",
   "pygments_lexer": "ipython3",
   "version": "3.6.5"
  }
 },
 "nbformat": 4,
 "nbformat_minor": 2
}
